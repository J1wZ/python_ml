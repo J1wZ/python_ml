{
 "cells": [
  {
   "cell_type": "markdown",
   "metadata": {},
   "source": [
    "# Задание 2\n",
    "\n",
    "В этом задании вам придётся реализовать декоратор, который будет принимать несколько аргументов. Так, нужно написать декоратор cache( db : str ),который принимает в качестве параметра db-название базы данных, где будет кэшироваться информация. Затем подумайте, как можно передать второй параметр- expiration, количество раз, когда данные будут браться из кэша, а затем будут стёрты.\n",
    "\n",
    "Исходные условия:\n",
    "\n",
    "    ●Определена функция get_info(thing:str)->str, которая возвращает информацию о предмете thing.\n",
    "\n",
    "Порядок выполнения:\n",
    "\n",
    "    ●Напишите декоратор, который будет принимать название базы данных и количество раз, когда данные будут браться из кэша. После того, как количество станет равным нулю кэш необходимо обновить актуальными данными (см.примеры)"
   ]
  },
  {
   "cell_type": "code",
   "execution_count": 176,
   "metadata": {},
   "outputs": [],
   "source": [
    "import functools\n",
    "\n",
    "def cache(bd : str, expiration = 5):\n",
    "    \"\"\"\n",
    "    Кэширует данные из func в базе данный bd. \n",
    "    expiration - кол-во раз, когда можно брать данные из кэша,\n",
    "    после чего они будут стерты \n",
    "    \"\"\"\n",
    "    def decorator_cache(func):\n",
    "        @functools.wraps(func)\n",
    "        def wrapper_cache(*args, **kwargs):\n",
    "            cache_key = args + tuple(kwargs.items())\n",
    "            if cache_key not in wrapper_cache.cache:\n",
    "                wrapper_cache.cache[cache_key] = [func(*args, **kwargs), expiration]\n",
    "                print(f\"Info about: {args[0]} from {bd}, now cached with expire = {expiration}\")\n",
    "                return wrapper_cache.cache[cache_key][0]\n",
    "            wrapper_cache.cache[cache_key][1] -=1\n",
    "            print(f\"Info about: {args[0]} cached in {bd}, expire = {wrapper_cache.cache[cache_key][1]}\")\n",
    "            if wrapper_cache.cache[cache_key][1] == 0:\n",
    "                final_cache = wrapper_cache.cache[cache_key][0]\n",
    "                del wrapper_cache.cache[cache_key]\n",
    "                return final_cache\n",
    "            return wrapper_cache.cache[cache_key][0]  \n",
    "        # в wrapper_cache.cache будет храниться наш кэш\n",
    "        wrapper_cache.cache = dict()\n",
    "        return wrapper_cache\n",
    "    return decorator_cache\n",
    "\n",
    "def get_info(thing):\n",
    "    return f\"{thing} Info: {type(thing)}, {len(thing)}\""
   ]
  },
  {
   "cell_type": "code",
   "execution_count": 177,
   "metadata": {},
   "outputs": [
    {
     "name": "stdout",
     "output_type": "stream",
     "text": [
      "Fish Info: <class 'str'>, 4\n",
      "Fish Info: <class 'str'>, 4\n"
     ]
    }
   ],
   "source": [
    "for i in range(2):\n",
    "    print(get_info(\"Fish\"))"
   ]
  },
  {
   "cell_type": "code",
   "execution_count": 178,
   "metadata": {},
   "outputs": [],
   "source": [
    "@cache(\"PostgreSql\")\n",
    "def info1(thing):\n",
    "    return get_info(thing)\n",
    "\n",
    "@cache(\"MySQL\", 2)\n",
    "def info2(thing):\n",
    "    return get_info(thing)\n"
   ]
  },
  {
   "cell_type": "code",
   "execution_count": 179,
   "metadata": {},
   "outputs": [
    {
     "name": "stdout",
     "output_type": "stream",
     "text": [
      "Info about: Bike from PostgreSql, now cached with expire = 5\n",
      "Bike Info: <class 'str'>, 4\n",
      "Info about: Bike cached in PostgreSql, expire = 4\n",
      "Bike Info: <class 'str'>, 4\n",
      "Info about: Bike cached in PostgreSql, expire = 3\n",
      "Bike Info: <class 'str'>, 4\n"
     ]
    }
   ],
   "source": [
    "for i in range(3):\n",
    "    print(info1(\"Bike\"))"
   ]
  },
  {
   "cell_type": "code",
   "execution_count": 180,
   "metadata": {},
   "outputs": [
    {
     "name": "stdout",
     "output_type": "stream",
     "text": [
      "Info about: Toys from PostgreSql, now cached with expire = 5\n",
      "Info about: Toys cached in PostgreSql, expire = 4\n",
      "Info about: Chairs from PostgreSql, now cached with expire = 5\n",
      "Info about: Chairs cached in PostgreSql, expire = 4\n",
      "Info about: Chairs cached in PostgreSql, expire = 3\n",
      "Info about: user from MySQL, now cached with expire = 2\n",
      "Info about: user cached in MySQL, expire = 1\n",
      "Info about: user cached in MySQL, expire = 0\n",
      "Info about: user from MySQL, now cached with expire = 2\n"
     ]
    }
   ],
   "source": [
    "for i in range(2):\n",
    "    info1(\"Toys\")\n",
    "for i in range(3):\n",
    "    info1(\"Chairs\")\n",
    "for i in range(4):\n",
    "    info2(\"user\")"
   ]
  },
  {
   "cell_type": "code",
   "execution_count": 181,
   "metadata": {},
   "outputs": [
    {
     "name": "stdout",
     "output_type": "stream",
     "text": [
      "Info about: user cached in MySQL, expire = 1\n",
      "Info about: user cached in MySQL, expire = 0\n",
      "Info about: user from MySQL, now cached with expire = 2\n",
      "Info about: user cached in MySQL, expire = 1\n",
      "Info about: user cached in MySQL, expire = 0\n"
     ]
    }
   ],
   "source": [
    "# для user уже есть кэш с прошлого range, поэтому expire = 1\n",
    "for i in range(5):\n",
    "    info2(\"user\")"
   ]
  },
  {
   "cell_type": "code",
   "execution_count": 182,
   "metadata": {},
   "outputs": [
    {
     "name": "stdout",
     "output_type": "stream",
     "text": [
      "Info about: new user from MySQL, now cached with expire = 2\n",
      "Info about: new user cached in MySQL, expire = 1\n",
      "Info about: new user cached in MySQL, expire = 0\n",
      "Info about: new user from MySQL, now cached with expire = 2\n",
      "Info about: new user cached in MySQL, expire = 1\n",
      "Info about: new user cached in MySQL, expire = 0\n",
      "Info about: new user from MySQL, now cached with expire = 2\n"
     ]
    }
   ],
   "source": [
    "for i in range(7):\n",
    "    info2(\"new user\")"
   ]
  }
 ],
 "metadata": {
  "kernelspec": {
   "display_name": "Python 3",
   "language": "python",
   "name": "python3"
  },
  "language_info": {
   "codemirror_mode": {
    "name": "ipython",
    "version": 3
   },
   "file_extension": ".py",
   "mimetype": "text/x-python",
   "name": "python",
   "nbconvert_exporter": "python",
   "pygments_lexer": "ipython3",
   "version": "3.13.0"
  }
 },
 "nbformat": 4,
 "nbformat_minor": 2
}
