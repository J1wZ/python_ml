{
 "cells": [
  {
   "cell_type": "markdown",
   "metadata": {},
   "source": [
    "# Задача 1 Права администратора\n",
    "\n",
    "Исходные условия:\n",
    "\n",
    "● Определена функция secret_resource()->str, которая должна быть доступна только пользователям с ролью 'admin'.\n",
    "\n",
    "●Роль очередного пользователя записана в глобальной переменной user_role.\n",
    "\n",
    "Порядок выполнения:\n",
    "\n",
    "●Напишите код декоратора role_required(role:str), который в случае, если пользователь является админом предоставляет доступ к функции secret_resource, а иначе возвращает строку 'Permissiondenied'."
   ]
  },
  {
   "cell_type": "code",
   "execution_count": 8,
   "metadata": {},
   "outputs": [],
   "source": [
    "import functools\n",
    "\n",
    "user_role = \"\"\n",
    "\n",
    "def role_required(role:str):\n",
    "    \"\"\"\n",
    "    Функция проверяет есть ли у роли доступ\n",
    "    \"\"\"\n",
    "    def check_role(func):\n",
    "        @functools.wraps(func)\n",
    "        def wrapper():\n",
    "            if role == user_role:\n",
    "                return func()\n",
    "            else:\n",
    "                return f\"Permission denied\"\n",
    "        return wrapper\n",
    "    return check_role\n",
    "            \n",
    "@role_required(\"admin\")\n",
    "def secret_resource():\n",
    "    #Какой-то код\n",
    "    return f\"Permission accepted\"\n",
    "    "
   ]
  },
  {
   "cell_type": "code",
   "execution_count": 11,
   "metadata": {},
   "outputs": [
    {
     "name": "stdout",
     "output_type": "stream",
     "text": [
      "user_role = admin\n",
      "Permission accepted\n"
     ]
    }
   ],
   "source": [
    "user_role = input(\"Введите роль:\")\n",
    "print(f\"user_role = {user_role}\")\n",
    "print(secret_resource())"
   ]
  },
  {
   "cell_type": "code",
   "execution_count": 13,
   "metadata": {},
   "outputs": [
    {
     "name": "stdout",
     "output_type": "stream",
     "text": [
      "Permission denied\n",
      "Permission denied\n",
      "Permission accepted\n",
      "Permission denied\n"
     ]
    }
   ],
   "source": [
    "users = [\"manager\", \"anon\", \"admin\", \"someone\"]\n",
    "for u in users:\n",
    "    user_role = u\n",
    "    print(secret_resource())"
   ]
  }
 ],
 "metadata": {
  "kernelspec": {
   "display_name": "Python 3",
   "language": "python",
   "name": "python3"
  },
  "language_info": {
   "codemirror_mode": {
    "name": "ipython",
    "version": 3
   },
   "file_extension": ".py",
   "mimetype": "text/x-python",
   "name": "python",
   "nbconvert_exporter": "python",
   "pygments_lexer": "ipython3",
   "version": "3.13.0"
  }
 },
 "nbformat": 4,
 "nbformat_minor": 2
}
