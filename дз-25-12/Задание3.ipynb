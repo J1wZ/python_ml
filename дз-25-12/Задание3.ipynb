{
 "cells": [
  {
   "cell_type": "markdown",
   "metadata": {},
   "source": [
    "# Задание 3\n",
    "\n",
    "Реализуйте контекстный менеджер safe_write, который принимает один аргумент : filename — имя файла \n",
    "\n",
    "Контекстный менеджер должен позволять записывать информацию в файл с именем filename. Причем если вовремя записи в файл было возбуждено какое-либо исключение, контекстный менеджер должен поглотить его, отменить все выполненные ранее записи в файл, если они были, вернуть файл в исходное состояние и проинформировать о возбужденном исключении выводом следующего текста:\n",
    "\n",
    "    Вовремя записи в файл было возбуждено исключение <тип исключения> \n",
    "\n",
    "Дополнительная проверка данных на корректность не требуется. Гарантируется, что реализованный контекстный менеджер используется только с корректными данными."
   ]
  },
  {
   "cell_type": "code",
   "execution_count": 35,
   "metadata": {},
   "outputs": [],
   "source": [
    "class safe_write:\n",
    "    \"\"\"\n",
    "    Контекстный менеджер safe_write позволяет записывать информацию в файл с именем filename.\\n\n",
    "    Причеме если во время записи в файл было возбуждено какое-либо исключение,\n",
    "    контекстный менеджер поглотит его, отменит все выполненные ранее записи в файл, \n",
    "    если они были,вернет файл в исходное состояние.\n",
    "    \"\"\"\n",
    "    def __init__(self, filename):\n",
    "        self.path = filename\n",
    "        with open(self.path, mode='r') as file:\n",
    "            self.initial_text = file.read()\n",
    "\n",
    "    def __enter__(self):\n",
    "        self.file = open(self.path, mode='w')\n",
    "        return self.file\n",
    "\n",
    "    def __exit__(self, exc_type, exc_value, traceback):\n",
    "        if self.file:\n",
    "            if exc_type is not None:\n",
    "                print(f\"Во время записи в файл было возбуждено исключение {exc_type.__name__}\")\n",
    "                with open(self.path, mode='w') as file:\n",
    "                    file.write(self.initial_text)\n",
    "                return True\n",
    "            self.file.close()\n",
    "            "
   ]
  },
  {
   "cell_type": "code",
   "execution_count": 36,
   "metadata": {},
   "outputs": [
    {
     "name": "stdout",
     "output_type": "stream",
     "text": [
      "Я знаю,что ничего не знаю, но другие не знают и этого.\n"
     ]
    }
   ],
   "source": [
    "with safe_write('undertale.txt') as file:\n",
    "    file.write('Я знаю,что ничего не знаю, но другие не знают и этого.')\n",
    "\n",
    "with open('undertale.txt') as file:\n",
    "    print(file.read())"
   ]
  },
  {
   "cell_type": "code",
   "execution_count": 37,
   "metadata": {},
   "outputs": [
    {
     "name": "stdout",
     "output_type": "stream",
     "text": [
      "Во время записи в файл было возбуждено исключение ValueError\n",
      "Я знаю,что ничего не знаю, но другие не знают и этого.\n",
      "\n"
     ]
    }
   ],
   "source": [
    "with safe_write('under_tale.txt') as file:\n",
    "    file.write('Я знаю,что ничего не знаю, но другие не знают и этого.\\n')\n",
    "\n",
    "with safe_write('under_tale.txt') as file:\n",
    "    print('Если ты будешь любознательным, то будешь многознающим.',file=file,flush=True)\n",
    "    raise ValueError\n",
    "\n",
    "with open('under_tale.txt') as file:\n",
    "    print(file.read())"
   ]
  }
 ],
 "metadata": {
  "kernelspec": {
   "display_name": "Python 3",
   "language": "python",
   "name": "python3"
  },
  "language_info": {
   "codemirror_mode": {
    "name": "ipython",
    "version": 3
   },
   "file_extension": ".py",
   "mimetype": "text/x-python",
   "name": "python",
   "nbconvert_exporter": "python",
   "pygments_lexer": "ipython3",
   "version": "3.13.0"
  }
 },
 "nbformat": 4,
 "nbformat_minor": 2
}
