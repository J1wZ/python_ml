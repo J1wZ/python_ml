{
 "cells": [
  {
   "cell_type": "markdown",
   "metadata": {},
   "source": [
    "# Задача 1 Удвоение чисел и получение первого результата\n",
    "Напишите многопоточный код для обработки чисел из нескольких списков. Каждое число  в  списке  должно  быть  умножено на 2, с имитацией задержки 0.2 сек на каждой операции. Используйте  ThreadPoolExecutor и  as_completed для управления потоками и отслеживания результатов.Подробное описание задачи:\n",
    "\n",
    "1.   У  вас  есть  список  списков  с  числами, которые должны обрабатываться. Пример списка можно загрузить из файла test_list_numbers.txt (находится в материалах к заданию).\n",
    "\n",
    "2.   Реализовать  функцию process_number(number), которая принимает число, умножает его на 2, имитирует задержку в 0.2 секунды (рекомендуется через time.sleep(0.2)) и возвращает результат.\n",
    "\n",
    "3.   Инициализировать  ThreadPoolExecutor с  определенным количеством рабочих  потоков  (рекомендуется,  10).  Использовать  метод  submit() для отправки задачи обработки каждого числа из всех списков в пул потоков. Сохраните возвращаемые объекты Future в списке.\n",
    "\n",
    "4.   Итерируйтесь  через  объекты  Future, используя  as_completed(), чтобы получить результаты задач по мере их завершения.\n",
    "\n",
    "5.   После завершения всех задач, выведите сумму обработанных чисел списка который был обработан быстрее остальных. \n",
    "\n",
    "Вывод программы должен быть следующим:\n",
    "Сумма чисел в первом обработанном списке: 11090print(f\"Сумма чисел в первом обработанном списке: {first_list_sum}\")"
   ]
  },
  {
   "cell_type": "code",
   "execution_count": null,
   "metadata": {},
   "outputs": [],
   "source": [
    "import time\n",
    "from concurrent.futures import ThreadPoolExecutor, as_completed\n",
    "\n",
    "\n",
    "def process_number(number : int):\n",
    "    '''\n",
    "    Функция process_number возвращеет переданное ей число number умноженное на 2, \n",
    "    с имитацией задержки 0.2 сек на каждой операции\n",
    "    '''\n",
    "    time.sleep(0.2)\n",
    "    return number * 2\n",
    "\n",
    "\n",
    "\n",
    "def list_processing(data, num_threads=10):\n",
    "    '''\n",
    "    Функция list_processing принимает список списков data и максимальное количество \n",
    "    рабочих потоков num_threads\n",
    "\n",
    "    Она возвращает сумму обработанных чисел списка который \n",
    "    был обработан быстрее остальных и время его обработки\n",
    "    '''\n",
    "    min_process_time = float('inf')\n",
    "    first_list_sum = 0\n",
    "    with ThreadPoolExecutor(max_workers=num_threads) as executor:\n",
    "        start = time.time()\n",
    "        for data_list in data:\n",
    "            futures = [executor.submit(process_number, elm) for elm in data_list] \n",
    "            \n",
    "        if (time.time() - start) < min_process_time:\n",
    "            min_process_time = time.time() - start\n",
    "            first_list_sum = sum(future.result() for future in as_completed(futures))\n",
    "                \n",
    "    return {'min_process_time' : min_process_time, 'first_list_sum' : first_list_sum}"
   ]
  },
  {
   "cell_type": "code",
   "execution_count": 48,
   "metadata": {},
   "outputs": [
    {
     "name": "stdout",
     "output_type": "stream",
     "text": [
      "Results: {'min_process_time': 0.24687623977661133, 'first_list_sum': 28272}\n",
      "Сумма чисел в первом обработанном списке: 28272\n"
     ]
    }
   ],
   "source": [
    "with open(\"test_list_numbers.txt\", \"r\") as file:\n",
    "    test_list_numbers = eval(\"\".join([line.strip() for line in file.readlines()]))\n",
    "\n",
    "results = list_processing(test_list_numbers)\n",
    "print(f\"Results: {results}\")\n",
    "print(f\"Сумма чисел в первом обработанном списке: {results['first_list_sum']}\")"
   ]
  },
  {
   "cell_type": "markdown",
   "metadata": {},
   "source": [
    "# Тесты с другими кол-вами рабочих потоков"
   ]
  },
  {
   "cell_type": "markdown",
   "metadata": {},
   "source": [
    "5 - 1000000 потоков:"
   ]
  },
  {
   "cell_type": "code",
   "execution_count": 49,
   "metadata": {},
   "outputs": [
    {
     "name": "stdout",
     "output_type": "stream",
     "text": [
      "Кол-во потоков = 5\n",
      "Results: {'min_process_time': 0.015919208526611328, 'first_list_sum': 28272}\n",
      "Сумма чисел в первом обработанном списке: 28272\n",
      "Кол-во потоков = 50\n",
      "Results: {'min_process_time': 0.03985786437988281, 'first_list_sum': 28272}\n",
      "Сумма чисел в первом обработанном списке: 28272\n",
      "Кол-во потоков = 100\n",
      "Results: {'min_process_time': 0.10612058639526367, 'first_list_sum': 28272}\n",
      "Сумма чисел в первом обработанном списке: 28272\n",
      "Кол-во потоков = 500\n",
      "Results: {'min_process_time': 0.10932612419128418, 'first_list_sum': 28272}\n",
      "Сумма чисел в первом обработанном списке: 28272\n",
      "Кол-во потоков = 10000\n",
      "Results: {'min_process_time': 0.0826864242553711, 'first_list_sum': 28272}\n",
      "Сумма чисел в первом обработанном списке: 28272\n",
      "Кол-во потоков = 100000\n",
      "Results: {'min_process_time': 0.07401919364929199, 'first_list_sum': 28272}\n",
      "Сумма чисел в первом обработанном списке: 28272\n",
      "Кол-во потоков = 1000000\n",
      "Results: {'min_process_time': 0.06770515441894531, 'first_list_sum': 28272}\n",
      "Сумма чисел в первом обработанном списке: 28272\n"
     ]
    }
   ],
   "source": [
    "with open(\"test_list_numbers.txt\", \"r\") as file:\n",
    "    test_list_numbers = eval(\"\".join([line.strip() for line in file.readlines()]))\n",
    "for num_threads in [5, 50, 100, 500, 10000, 100000, 1000000]:\n",
    "    results = list_processing(test_list_numbers, num_threads)\n",
    "    print(f\"Кол-во потоков = {num_threads}\")\n",
    "    print(f\"Results: {results}\")\n",
    "    print(f\"Сумма чисел в первом обработанном списке: {results['first_list_sum']}\")"
   ]
  }
 ],
 "metadata": {
  "kernelspec": {
   "display_name": "Python 3",
   "language": "python",
   "name": "python3"
  },
  "language_info": {
   "codemirror_mode": {
    "name": "ipython",
    "version": 3
   },
   "file_extension": ".py",
   "mimetype": "text/x-python",
   "name": "python",
   "nbconvert_exporter": "python",
   "pygments_lexer": "ipython3",
   "version": "3.13.0"
  }
 },
 "nbformat": 4,
 "nbformat_minor": 2
}
