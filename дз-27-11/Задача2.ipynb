{
 "cells": [
  {
   "cell_type": "markdown",
   "metadata": {},
   "source": [
    "Написать класс CyclicIterator. \n",
    "Итератор должен итерировать по итерируемому объекту \n",
    "(например, по range, list, tuple, set и т.д.),\n",
    "и когда достигнет последнего элемента, начинать с начала. \n",
    "Проверить работу итератора"
   ]
  },
  {
   "cell_type": "code",
   "execution_count": 3,
   "metadata": {},
   "outputs": [],
   "source": [
    "class CyclicIterator():\n",
    "\n",
    "    def __init__(self, list=[]):\n",
    "        self._list = list\n",
    "\n",
    "\n",
    "    @property\n",
    "    def list(self):\n",
    "        return self._list\n",
    "\n",
    "\n",
    "    def cycle(self):\n",
    "        list = self.list\n",
    "        saved = []\n",
    "        for element in list:\n",
    "            yield element\n",
    "            saved.append(element)\n",
    "\n",
    "        while saved:\n",
    "            for element in saved:\n",
    "                yield element"
   ]
  },
  {
   "cell_type": "code",
   "execution_count": 4,
   "metadata": {},
   "outputs": [
    {
     "name": "stdout",
     "output_type": "stream",
     "text": [
      "1\n",
      "2\n",
      "3\n",
      "4\n",
      "1\n",
      "2\n",
      "3\n",
      "4\n",
      "1\n"
     ]
    }
   ],
   "source": [
    "my_list = [1, 2, 3 , 4]\n",
    "iter = CyclicIterator(my_list).cycle()\n",
    "i = 0\n",
    "while i < len(my_list)+5:\n",
    "    print(next(iter))\n",
    "    i +=1"
   ]
  }
 ],
 "metadata": {
  "language_info": {
   "name": "python"
  }
 },
 "nbformat": 4,
 "nbformat_minor": 2
}
