{
 "cells": [
  {
   "cell_type": "markdown",
   "metadata": {},
   "source": [
    "Задайте функцию-генератор,которая на основе символов строки chars:\n",
    "from string import ascii_lowercase, ascii_uppercase\n",
    "chars=ascii_lowercase+ascii_uppercase+\"0123456789!?@#$*\"\n",
    "\n",
    "формирует и выдает случайно сгенерированные пароли длиной 12 символов.Количество выдаваемых паролей функцией должно быть неограниченным. Случайный выбор символа из последовательности chars можно реализовать с помощью функции choice модуля random. Выведите первые пять сгенерированных паролей на экран"
   ]
  },
  {
   "cell_type": "code",
   "execution_count": 8,
   "metadata": {},
   "outputs": [
    {
     "name": "stdout",
     "output_type": "stream",
     "text": [
      "8@wlO9ciVz5D\n",
      "uzzsGimC$!wU\n",
      "kz3YpihHA3qW\n",
      "*?0Uzz7zhi3$\n",
      "8spm0l7VB1AA\n"
     ]
    }
   ],
   "source": [
    "from string import ascii_lowercase, ascii_uppercase\n",
    "from random import choice\n",
    "\n",
    "chars=ascii_lowercase+ascii_uppercase+\"0123456789!?@#$*\"\n",
    "\n",
    "def generatePass(chars):\n",
    "    password = ''.join(choice(chars) for _ in range(12))\n",
    "    yield password\n",
    "\n",
    "i = 0\n",
    "while i < 5:\n",
    "    print(next(generatePass(chars)))\n",
    "    i+=1"
   ]
  }
 ],
 "metadata": {
  "kernelspec": {
   "display_name": "Python 3",
   "language": "python",
   "name": "python3"
  },
  "language_info": {
   "codemirror_mode": {
    "name": "ipython",
    "version": 3
   },
   "file_extension": ".py",
   "mimetype": "text/x-python",
   "name": "python",
   "nbconvert_exporter": "python",
   "pygments_lexer": "ipython3",
   "version": "3.13.0"
  }
 },
 "nbformat": 4,
 "nbformat_minor": 2
}
