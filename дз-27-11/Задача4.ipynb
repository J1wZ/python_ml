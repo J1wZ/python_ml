{
 "cells": [
  {
   "cell_type": "markdown",
   "metadata": {},
   "source": [
    "Создать класс Movie. У Movie есть название и расписание, по каким дням он идёт в кинотеатрах. Название Movie - это текст. Расписание хранится периодами дат.\n",
    "Например, прокат фильма проходит с 1 по 7 января, а потом показ возобновляется с 15 января по 7 февраля:\n",
    "\n",
    "[(datetime(2024,11,1),datetime(2024,11,7)),\n",
    "(datetime(2024,12,15),datetime(2024,12,31))]\n",
    "\n",
    "Реализуйте у класса Movie метод schedule. Он будет генерировать дни, в которые показывают фильм. Проверить работу генератора."
   ]
  },
  {
   "cell_type": "code",
   "execution_count": 100,
   "metadata": {},
   "outputs": [],
   "source": [
    "from datetime import date, timedelta, datetime\n",
    "import random\n",
    "\n",
    "class Movie():\n",
    "\n",
    "    #num_days определяет максимальное количество дней после которых начнется показ фильма\n",
    "    def __init__(self, name='', num_days = 20):\n",
    "        self._name = str(name)\n",
    "        if isinstance(num_days, int):\n",
    "            self._schedule = self.chooseRandomDates(num_days)\n",
    "        else:\n",
    "            raise TypeError(f\"Канструктор Movie не принимает в num_days обьекты {type(num_days)}\")\n",
    "\n",
    "    #chooseRandomDates возвращает лист из двух рандомных начал и концов показа фильма\n",
    "    #date_range определяет максимальное количество дней после которых начнется показ фильма\n",
    "    def chooseRandomDates(self, date_range):\n",
    "        start = date.today()\n",
    "        res = []\n",
    "        #rand_day - кол-во дней от start до начала показа фильма\n",
    "        #sessions -  кол-во дней(сеансов) до конца показа \n",
    "        rand_day = 0\n",
    "        sessions = 0\n",
    "        for _ in range(2):\n",
    "            random.seed(a=None)\n",
    "            rand_day = random.randrange(rand_day+sessions,rand_day+sessions+date_range)\n",
    "            sessions = random.randrange(1, date_range//2)\n",
    "            t = (start + timedelta(rand_day), start + timedelta(rand_day) + timedelta(sessions))\n",
    "            res.append(t)\n",
    "        return res\n",
    "\n",
    "\n",
    "    def schedule(self):\n",
    "        dates = self._schedule\n",
    "        for date in dates:\n",
    "            start_date = date[0]\n",
    "            end_date = date[1]\n",
    "            days = int((end_date - start_date).days)\n",
    "            for i in range(days):\n",
    "                yield start_date + timedelta(i)\n",
    "\n",
    "    def show_schedule(self):\n",
    "        res = ''\n",
    "        for el in self.schedule():\n",
    "            res += f'{datetime.strftime(el,\"%Y-%m-%d %H:%M:%S\")}\\r\\n'\n",
    "        return res\n",
    "        "
   ]
  },
  {
   "cell_type": "code",
   "execution_count": 101,
   "metadata": {},
   "outputs": [
    {
     "name": "stdout",
     "output_type": "stream",
     "text": [
      "2024-12-03 00:00:00\n",
      "2024-12-04 00:00:00\n",
      "2024-12-05 00:00:00\n",
      "2024-12-06 00:00:00\n",
      "2024-12-07 00:00:00\n",
      "2024-12-08 00:00:00\n",
      "2024-12-09 00:00:00\n",
      "2024-12-10 00:00:00\n",
      "2024-12-11 00:00:00\n",
      "2024-12-12 00:00:00\n",
      "2024-12-13 00:00:00\n",
      "2025-01-12 00:00:00\n",
      "2025-01-13 00:00:00\n",
      "2025-01-14 00:00:00\n",
      "2025-01-15 00:00:00\n",
      "2025-01-16 00:00:00\n",
      "2025-01-17 00:00:00\n",
      "2025-01-18 00:00:00\n",
      "\n"
     ]
    }
   ],
   "source": [
    "a = Movie('Русалочка',30)\n",
    "print(a.show_schedule())"
   ]
  },
  {
   "cell_type": "markdown",
   "metadata": {},
   "source": [
    "Ошибка:"
   ]
  },
  {
   "cell_type": "code",
   "execution_count": 102,
   "metadata": {},
   "outputs": [
    {
     "name": "stdout",
     "output_type": "stream",
     "text": [
      "Канструктор Movie не принимает в num_days обьекты <class 'str'>\n"
     ]
    }
   ],
   "source": [
    "try:\n",
    "    a = Movie(23, \"qqqq\")\n",
    "except TypeError as er:\n",
    "    print(er)"
   ]
  }
 ],
 "metadata": {
  "kernelspec": {
   "display_name": "Python 3",
   "language": "python",
   "name": "python3"
  },
  "language_info": {
   "codemirror_mode": {
    "name": "ipython",
    "version": 3
   },
   "file_extension": ".py",
   "mimetype": "text/x-python",
   "name": "python",
   "nbconvert_exporter": "python",
   "pygments_lexer": "ipython3",
   "version": "3.13.0"
  }
 },
 "nbformat": 4,
 "nbformat_minor": 2
}
