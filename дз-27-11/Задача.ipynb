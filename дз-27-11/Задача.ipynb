{
 "cells": [
  {
   "cell_type": "markdown",
   "metadata": {},
   "source": [
    "Создать программу,которая работает со списком.\n",
    "Пользователь вводит список в программу. Реализовать следующие действия:"
   ]
  },
  {
   "cell_type": "code",
   "execution_count": 5,
   "metadata": {},
   "outputs": [
    {
     "name": "stdout",
     "output_type": "stream",
     "text": [
      "Лист:   ['1', '3', '-1', 'wefwefhu']\n"
     ]
    }
   ],
   "source": [
    "def number(num):\n",
    "    try:\n",
    "        a = float(num)\n",
    "        return a\n",
    "    except:\n",
    "        return False\n",
    "\n",
    "a = '1 3 -1 wefwefhu'\n",
    "my_list = a.split()\n",
    "print(\"Лист:  \", my_list)"
   ]
  },
  {
   "cell_type": "markdown",
   "metadata": {},
   "source": [
    "1.С помощью функции any проверить содержит ли этот список хотя бы одно положительное число."
   ]
  },
  {
   "cell_type": "code",
   "execution_count": 6,
   "metadata": {},
   "outputs": [
    {
     "name": "stdout",
     "output_type": "stream",
     "text": [
      "Содержит ли этот список хотя бы одно положительное число?\n",
      "True\n"
     ]
    }
   ],
   "source": [
    "res_any = any(number(el) > 0 for el in my_list)\n",
    "print(f\"Содержит ли этот список хотя бы одно положительное число?\\n{res_any}\")"
   ]
  },
  {
   "cell_type": "markdown",
   "metadata": {},
   "source": [
    "2.С помощью функции all проверить состоят ли все элементы списка только из чисел."
   ]
  },
  {
   "cell_type": "code",
   "execution_count": 7,
   "metadata": {},
   "outputs": [
    {
     "name": "stdout",
     "output_type": "stream",
     "text": [
      "Состоят ли все элементы списка только из чисел?\n",
      "False\n"
     ]
    }
   ],
   "source": [
    "res_all = all(number(el) is not False for el in my_list)\n",
    "print(f\"Состоят ли все элементы списка только из чисел?\\n{res_all}\")"
   ]
  },
  {
   "cell_type": "markdown",
   "metadata": {},
   "source": [
    "3.Отсортировать список с помощью функции sorted."
   ]
  },
  {
   "cell_type": "code",
   "execution_count": 8,
   "metadata": {},
   "outputs": [
    {
     "name": "stdout",
     "output_type": "stream",
     "text": [
      "Сортированный лист:\n",
      "['-1', '1', '3', 'wefwefhu']\n"
     ]
    }
   ],
   "source": [
    "print(f\"Сортированный лист:\\n{sorted(my_list)}\")"
   ]
  }
 ],
 "metadata": {
  "kernelspec": {
   "display_name": "Python 3",
   "language": "python",
   "name": "python3"
  },
  "language_info": {
   "codemirror_mode": {
    "name": "ipython",
    "version": 3
   },
   "file_extension": ".py",
   "mimetype": "text/x-python",
   "name": "python",
   "nbconvert_exporter": "python",
   "pygments_lexer": "ipython3",
   "version": "3.13.0"
  }
 },
 "nbformat": 4,
 "nbformat_minor": 2
}
