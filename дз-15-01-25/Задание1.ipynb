{
 "cells": [
  {
   "cell_type": "markdown",
   "metadata": {},
   "source": [
    "# Задача 1 Применение метаклассов\n",
    "Напишите метакласс PythonAttrLoggingMeta, который регистрирует каждый доступ к атрибуту или его изменение. В метаклассе должен быть переопределен метод __new__. В AttrLoggingMeta добавить методы по логированию доступа log_access(name,value), чтению log_read(name,value,instance) и записи log_write(name,value,instance) атрибута класса.\n",
    "\n",
    "Определите класс LoggedClass, используя AttrLoggingMeta в качестве его метакласса. Проверьте правильность реализации методов."
   ]
  },
  {
   "cell_type": "code",
   "execution_count": 34,
   "metadata": {},
   "outputs": [],
   "source": [
    "class PythonAttrLoggingMeta(type):\n",
    "    \"\"\"\n",
    "    В Метаклассе PythonAttrLoggingMeta есть методы по логированию доступа log_access(name,value),\n",
    "    чтению log_read(name,value,instance) и записи log_write(name,value,instance)\n",
    "    атрибута класса.\n",
    "    \"\"\"\n",
    "    \n",
    "    def __new__(mcs, name, bases, attrs, **extra_kwargs):\n",
    "        for attr_key, attr_value in attrs.items():\n",
    "            #Чтобы логировались только ни приватные ни специальные атрибуты и методы\n",
    "            if not attr_key.startswith('__'):\n",
    "                attrs[attr_key] = mcs.log_access(attr_key, attr_value)\n",
    "        return super().__new__(mcs, name, bases, attrs)  \n",
    "\n",
    "    def __init__(cls, name, bases, attrs, **extra_kwargs):  \n",
    "        super().__init__(cls)  \n",
    "\n",
    "    @classmethod  \n",
    "    def __prepare__(mcs, cls, bases, **extra_kwargs):  \n",
    "        return super().__prepare__(mcs, cls, bases, **extra_kwargs)  \n",
    "\n",
    "    def __call__(cls, *args, **kwargs):  \n",
    "        return super().__call__(*args, **kwargs)\n",
    "    \n",
    "    @staticmethod\n",
    "    def log_access(name, value):\n",
    "        \"\"\"\n",
    "        Метод по логированию доступа к методам и атрибутам\n",
    "        \"\"\"\n",
    "\n",
    "        if callable(value):\n",
    "            return PythonAttrLoggingMeta.log_method(name, value)\n",
    "        else:\n",
    "            #Определяется геттер и сеттер для атрибута\n",
    "            return property(\n",
    "                fget=lambda self: PythonAttrLoggingMeta.log_read(name, value, self),\n",
    "                fset=lambda self, new_value: PythonAttrLoggingMeta.log_write(name, new_value, self)\n",
    "            )\n",
    "    \n",
    "    @staticmethod\n",
    "    def log_method(name, value):\n",
    "        def wrapper(*args, **kwargs):\n",
    "                print(f\"Calling method {name}\")\n",
    "                return value(*args, **kwargs)\n",
    "        return wrapper\n",
    "\n",
    "\n",
    "    @staticmethod\n",
    "    def log_read(name, value, instance):\n",
    "        print(f\"Reading attribute {name}\")\n",
    "        return value\n",
    "    \n",
    "    @staticmethod\n",
    "    def log_write(name, value, instance):\n",
    "        print(f\"Writing attribute {name} with value {value}\")\n",
    "        instance.__dict__[name] = value\n",
    "\n",
    "class LoggedClass(metaclass=PythonAttrLoggingMeta):\n",
    "    \"\"\"\n",
    "    Класс LoggedClass основан на метаклассе PythonAttrLoggingMeta. \\n\n",
    "    Он добавляет атрибут custom_method и метод other_custom_method.\n",
    "    \"\"\"\n",
    "\n",
    "    custom_method = 42\n",
    "\n",
    "    def other_custom_method(self):\n",
    "        pass"
   ]
  },
  {
   "cell_type": "code",
   "execution_count": 35,
   "metadata": {},
   "outputs": [
    {
     "name": "stdout",
     "output_type": "stream",
     "text": [
      "Reading attribute custom_method\n",
      "42\n",
      "Writing attribute custom_method with value 78\n",
      "Calling method other_custom_method\n"
     ]
    }
   ],
   "source": [
    "def main():\n",
    "    instance = LoggedClass()\n",
    "    print(instance.custom_method)  \n",
    "    instance.custom_method = 78    \n",
    "    instance.other_custom_method()\n",
    "\n",
    "if __name__ == \"__main__\":\n",
    "    main()"
   ]
  }
 ],
 "metadata": {
  "kernelspec": {
   "display_name": "Python 3",
   "language": "python",
   "name": "python3"
  },
  "language_info": {
   "codemirror_mode": {
    "name": "ipython",
    "version": 3
   },
   "file_extension": ".py",
   "mimetype": "text/x-python",
   "name": "python",
   "nbconvert_exporter": "python",
   "pygments_lexer": "ipython3",
   "version": "3.13.0"
  }
 },
 "nbformat": 4,
 "nbformat_minor": 2
}
