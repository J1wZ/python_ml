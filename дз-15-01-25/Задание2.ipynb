{
 "cells": [
  {
   "cell_type": "markdown",
   "metadata": {},
   "source": [
    "# Задача 2 Динамическое создание класса \n",
    "Напишите функцию Python create_class_with_methods, которая принимает имя класса, словарь атрибутов и словарь методов и возвращает динамически созданный класс с этими атрибутами и методами. Для создания класса использовать метод type."
   ]
  },
  {
   "cell_type": "code",
   "execution_count": 8,
   "metadata": {},
   "outputs": [],
   "source": [
    "def create_class_with_methods(class_name : str, attr_dict : dict, method_dict : dict):\n",
    "    \"\"\"\n",
    "    Функция create_class_with_methods создает динамически созданный класс с \n",
    "    данными атрибутами и методами. \\n\n",
    "    class_name - имя класса \\n\n",
    "    attr_dict - словарь атрибутов \\n\n",
    "    method_dict - словарь методов\n",
    "    \"\"\"\n",
    "\n",
    "    return type(class_name, (object,), attr_dict | method_dict)"
   ]
  },
  {
   "cell_type": "code",
   "execution_count": 9,
   "metadata": {},
   "outputs": [
    {
     "name": "stdout",
     "output_type": "stream",
     "text": [
      "Hello, I am a Human and I am 25 years old.\n"
     ]
    }
   ],
   "source": [
    "def main():\n",
    "    attributes= {'species':'Human','age':25}\n",
    "    methods={'greet':lambda self:f\"Hello, I am a {self.species} and I am {self.age} years old.\"}\n",
    "    DynamicClass=create_class_with_methods('DynamicClass',attributes,methods)\n",
    "    instance=DynamicClass()\n",
    "    print(instance.greet())\n",
    "\n",
    "if __name__ == \"__main__\":\n",
    "    main()"
   ]
  }
 ],
 "metadata": {
  "kernelspec": {
   "display_name": "Python 3",
   "language": "python",
   "name": "python3"
  },
  "language_info": {
   "codemirror_mode": {
    "name": "ipython",
    "version": 3
   },
   "file_extension": ".py",
   "mimetype": "text/x-python",
   "name": "python",
   "nbconvert_exporter": "python",
   "pygments_lexer": "ipython3",
   "version": "3.13.0"
  }
 },
 "nbformat": 4,
 "nbformat_minor": 2
}
