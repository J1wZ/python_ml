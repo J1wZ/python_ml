{
 "cells": [
  {
   "cell_type": "markdown",
   "metadata": {},
   "source": [
    "# Задача 3 Генерация кода\n",
    "Напишите функцию Python generate_complex_function, которая принимает имя функции, список имён параметров и тело функции в виде строк и возвращает динамически сгенерированную функцию."
   ]
  },
  {
   "cell_type": "code",
   "execution_count": 33,
   "metadata": {},
   "outputs": [],
   "source": [
    "import types\n",
    "\n",
    "def generate_complex_function(function_name, parameters_list, body):\n",
    "    \"\"\"\n",
    "    Функция generate_complex_function принимает имя функции function_name, \n",
    "    список имён параметров parameters_list \n",
    "    и тело функции в виде строк body\n",
    "    и возвращает динамически сгенерированную функцию.\n",
    "    \"\"\"\n",
    "    parameters = ', '.join(parameters_list)\n",
    "    function_body = body.replace('\\n', '\\n    ')\n",
    "    function_code = f\"def {function_name}({parameters}):\\n    {function_body}\"\n",
    "    namespace = {}\n",
    "    exec(function_code, namespace)\n",
    "    dynamic_function = types.FunctionType(namespace[function_name].__code__, locals())\n",
    "    return dynamic_function\n",
    "\n",
    " "
   ]
  },
  {
   "cell_type": "code",
   "execution_count": 34,
   "metadata": {},
   "outputs": [
    {
     "name": "stdout",
     "output_type": "stream",
     "text": [
      "5\n",
      "5\n"
     ]
    }
   ],
   "source": [
    "def main():\n",
    "    function_name = 'complex_function'\n",
    "    parameters = ['x', 'y']\n",
    "    function_body = \"\"\"\n",
    "    if x > y:\n",
    "        return x - y\n",
    "    else:\n",
    "        return y - x\n",
    "    \"\"\"\n",
    "\n",
    "    complex_func = generate_complex_function(function_name, parameters, function_body)\n",
    "\n",
    "    print(complex_func(10, 5)) \n",
    "    print(complex_func(5, 10)) \n",
    "\n",
    "if __name__ == \"__main__\":\n",
    "    main()"
   ]
  },
  {
   "cell_type": "markdown",
   "metadata": {},
   "source": [
    "Я видела примеры где использовалось return locals()[function_name], но у меня она по какой-то причине не работала"
   ]
  },
  {
   "cell_type": "code",
   "execution_count": null,
   "metadata": {},
   "outputs": [],
   "source": [
    "# def generate_complex_function(function_name, parameters_list, body):\n",
    "#     \"\"\"\n",
    "#     Функция generate_complex_function принимает имя функции function_name, \n",
    "#     список имён параметров parameters_list \n",
    "#     и тело функции в виде строк body\n",
    "#     и возвращает динамически сгенерированную функцию.\n",
    "#     \"\"\"\n",
    "#     parameters = ', '.join(parameters_list)\n",
    "#     function_body = body.replace('\\n', '\\n    ')\n",
    "#     function_code = f\"def {function_name}({parameters}):\\n    {function_body}\"\n",
    "#     exec(function_code)\n",
    "#     return locals()[function_name]"
   ]
  }
 ],
 "metadata": {
  "kernelspec": {
   "display_name": "Python 3",
   "language": "python",
   "name": "python3"
  },
  "language_info": {
   "codemirror_mode": {
    "name": "ipython",
    "version": 3
   },
   "file_extension": ".py",
   "mimetype": "text/x-python",
   "name": "python",
   "nbconvert_exporter": "python",
   "pygments_lexer": "ipython3",
   "version": "3.13.0"
  }
 },
 "nbformat": 4,
 "nbformat_minor": 2
}
