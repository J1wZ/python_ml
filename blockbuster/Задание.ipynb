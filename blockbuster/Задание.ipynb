{
 "cells": [
  {
   "cell_type": "markdown",
   "metadata": {},
   "source": [
    "Домашнее задание по теме «Регрессия Decision Tree»"
   ]
  },
  {
   "cell_type": "code",
   "execution_count": 48,
   "metadata": {},
   "outputs": [],
   "source": [
    "import pandas as pd\n",
    "import numpy as np\n",
    "import matplotlib.pyplot as plt\n",
    "import seaborn as sns\n",
    "from sklearn.model_selection import train_test_split\n",
    "from sklearn.model_selection import RandomizedSearchCV\n",
    "from sklearn.metrics import mean_squared_error, root_mean_squared_error\n",
    "from sklearn.metrics import mean_absolute_error\n",
    "# Импорт моделей и инструментов для дерева решений\n",
    "from sklearn.tree import (\n",
    "    DecisionTreeRegressor\n",
    ")\n",
    "from sklearn.preprocessing import StandardScaler\n",
    "from sklearn.svm import SVR\n",
    "from sklearn.neighbors import KNeighborsRegressor\n",
    "from sklearn.svm import SVC\n",
    "from sklearn.linear_model import LinearRegression\n",
    "from sklearn.metrics import accuracy_score, precision_score, recall_score, f1_score, roc_curve, roc_auc_score\n",
    "from sklearn.model_selection import RandomizedSearchCV\n",
    "from sklearn.tree import DecisionTreeClassifier, plot_tree, export_text"
   ]
  },
  {
   "cell_type": "markdown",
   "metadata": {},
   "source": [
    "Загружаем данные"
   ]
  },
  {
   "cell_type": "code",
   "execution_count": 2,
   "metadata": {},
   "outputs": [],
   "source": [
    "train_df=pd.read_csv('Blockbuster_prices_1999-2025.csv')"
   ]
  },
  {
   "cell_type": "code",
   "execution_count": 3,
   "metadata": {},
   "outputs": [
    {
     "data": {
      "text/html": [
       "<div>\n",
       "<style scoped>\n",
       "    .dataframe tbody tr th:only-of-type {\n",
       "        vertical-align: middle;\n",
       "    }\n",
       "\n",
       "    .dataframe tbody tr th {\n",
       "        vertical-align: top;\n",
       "    }\n",
       "\n",
       "    .dataframe thead th {\n",
       "        text-align: right;\n",
       "    }\n",
       "</style>\n",
       "<table border=\"1\" class=\"dataframe\">\n",
       "  <thead>\n",
       "    <tr style=\"text-align: right;\">\n",
       "      <th></th>\n",
       "      <th>Date</th>\n",
       "      <th>Open</th>\n",
       "      <th>High</th>\n",
       "      <th>Low</th>\n",
       "      <th>Close</th>\n",
       "      <th>Volume</th>\n",
       "      <th>Dividends</th>\n",
       "      <th>Stock Splits</th>\n",
       "    </tr>\n",
       "  </thead>\n",
       "  <tbody>\n",
       "    <tr>\n",
       "      <th>0</th>\n",
       "      <td>1999-08-11 00:00:00-04:00</td>\n",
       "      <td>8.89</td>\n",
       "      <td>8.93</td>\n",
       "      <td>8.89</td>\n",
       "      <td>8.89</td>\n",
       "      <td>11909600</td>\n",
       "      <td>0.00</td>\n",
       "      <td>0.00</td>\n",
       "    </tr>\n",
       "    <tr>\n",
       "      <th>1</th>\n",
       "      <td>1999-08-12 00:00:00-04:00</td>\n",
       "      <td>8.89</td>\n",
       "      <td>10.00</td>\n",
       "      <td>8.89</td>\n",
       "      <td>8.89</td>\n",
       "      <td>4982500</td>\n",
       "      <td>0.00</td>\n",
       "      <td>0.00</td>\n",
       "    </tr>\n",
       "    <tr>\n",
       "      <th>2</th>\n",
       "      <td>1999-08-13 00:00:00-04:00</td>\n",
       "      <td>9.74</td>\n",
       "      <td>9.74</td>\n",
       "      <td>9.30</td>\n",
       "      <td>9.48</td>\n",
       "      <td>1265400</td>\n",
       "      <td>0.00</td>\n",
       "      <td>0.00</td>\n",
       "    </tr>\n",
       "    <tr>\n",
       "      <th>3</th>\n",
       "      <td>1999-08-16 00:00:00-04:00</td>\n",
       "      <td>9.33</td>\n",
       "      <td>9.33</td>\n",
       "      <td>8.89</td>\n",
       "      <td>8.89</td>\n",
       "      <td>1166300</td>\n",
       "      <td>0.00</td>\n",
       "      <td>0.00</td>\n",
       "    </tr>\n",
       "    <tr>\n",
       "      <th>4</th>\n",
       "      <td>1999-08-17 00:00:00-04:00</td>\n",
       "      <td>8.89</td>\n",
       "      <td>8.93</td>\n",
       "      <td>8.15</td>\n",
       "      <td>8.19</td>\n",
       "      <td>1250800</td>\n",
       "      <td>0.00</td>\n",
       "      <td>0.00</td>\n",
       "    </tr>\n",
       "  </tbody>\n",
       "</table>\n",
       "</div>"
      ],
      "text/plain": [
       "                        Date  Open  High  Low  Close    Volume  Dividends  \\\n",
       "0  1999-08-11 00:00:00-04:00  8.89  8.93 8.89   8.89  11909600       0.00   \n",
       "1  1999-08-12 00:00:00-04:00  8.89 10.00 8.89   8.89   4982500       0.00   \n",
       "2  1999-08-13 00:00:00-04:00  9.74  9.74 9.30   9.48   1265400       0.00   \n",
       "3  1999-08-16 00:00:00-04:00  9.33  9.33 8.89   8.89   1166300       0.00   \n",
       "4  1999-08-17 00:00:00-04:00  8.89  8.93 8.15   8.19   1250800       0.00   \n",
       "\n",
       "   Stock Splits  \n",
       "0          0.00  \n",
       "1          0.00  \n",
       "2          0.00  \n",
       "3          0.00  \n",
       "4          0.00  "
      ]
     },
     "execution_count": 3,
     "metadata": {},
     "output_type": "execute_result"
    }
   ],
   "source": [
    "pd.options.display.float_format = '{:,.2f}'.format\n",
    "train_df.head()"
   ]
  },
  {
   "cell_type": "code",
   "execution_count": 4,
   "metadata": {},
   "outputs": [
    {
     "name": "stdout",
     "output_type": "stream",
     "text": [
      "<class 'pandas.core.frame.DataFrame'>\n",
      "RangeIndex: 6426 entries, 0 to 6425\n",
      "Data columns (total 8 columns):\n",
      " #   Column        Non-Null Count  Dtype  \n",
      "---  ------        --------------  -----  \n",
      " 0   Date          6426 non-null   object \n",
      " 1   Open          6426 non-null   float64\n",
      " 2   High          6426 non-null   float64\n",
      " 3   Low           6426 non-null   float64\n",
      " 4   Close         6426 non-null   float64\n",
      " 5   Volume        6426 non-null   int64  \n",
      " 6   Dividends     6426 non-null   float64\n",
      " 7   Stock Splits  6426 non-null   float64\n",
      "dtypes: float64(6), int64(1), object(1)\n",
      "memory usage: 401.8+ KB\n"
     ]
    }
   ],
   "source": [
    "train_df.info(memory_usage=True) "
   ]
  },
  {
   "cell_type": "code",
   "execution_count": 15,
   "metadata": {},
   "outputs": [
    {
     "data": {
      "text/html": [
       "<div>\n",
       "<style scoped>\n",
       "    .dataframe tbody tr th:only-of-type {\n",
       "        vertical-align: middle;\n",
       "    }\n",
       "\n",
       "    .dataframe tbody tr th {\n",
       "        vertical-align: top;\n",
       "    }\n",
       "\n",
       "    .dataframe thead th {\n",
       "        text-align: right;\n",
       "    }\n",
       "</style>\n",
       "<table border=\"1\" class=\"dataframe\">\n",
       "  <thead>\n",
       "    <tr style=\"text-align: right;\">\n",
       "      <th></th>\n",
       "      <th>Open</th>\n",
       "      <th>High</th>\n",
       "      <th>Low</th>\n",
       "      <th>Close</th>\n",
       "      <th>Volume</th>\n",
       "      <th>Dividends</th>\n",
       "      <th>Stock Splits</th>\n",
       "    </tr>\n",
       "  </thead>\n",
       "  <tbody>\n",
       "    <tr>\n",
       "      <th>0</th>\n",
       "      <td>8.89</td>\n",
       "      <td>8.93</td>\n",
       "      <td>8.89</td>\n",
       "      <td>8.89</td>\n",
       "      <td>11909600</td>\n",
       "      <td>0.00</td>\n",
       "      <td>0.00</td>\n",
       "    </tr>\n",
       "    <tr>\n",
       "      <th>1</th>\n",
       "      <td>8.89</td>\n",
       "      <td>10.00</td>\n",
       "      <td>8.89</td>\n",
       "      <td>8.89</td>\n",
       "      <td>4982500</td>\n",
       "      <td>0.00</td>\n",
       "      <td>0.00</td>\n",
       "    </tr>\n",
       "    <tr>\n",
       "      <th>2</th>\n",
       "      <td>9.74</td>\n",
       "      <td>9.74</td>\n",
       "      <td>9.30</td>\n",
       "      <td>9.48</td>\n",
       "      <td>1265400</td>\n",
       "      <td>0.00</td>\n",
       "      <td>0.00</td>\n",
       "    </tr>\n",
       "    <tr>\n",
       "      <th>3</th>\n",
       "      <td>9.33</td>\n",
       "      <td>9.33</td>\n",
       "      <td>8.89</td>\n",
       "      <td>8.89</td>\n",
       "      <td>1166300</td>\n",
       "      <td>0.00</td>\n",
       "      <td>0.00</td>\n",
       "    </tr>\n",
       "    <tr>\n",
       "      <th>4</th>\n",
       "      <td>8.89</td>\n",
       "      <td>8.93</td>\n",
       "      <td>8.15</td>\n",
       "      <td>8.19</td>\n",
       "      <td>1250800</td>\n",
       "      <td>0.00</td>\n",
       "      <td>0.00</td>\n",
       "    </tr>\n",
       "    <tr>\n",
       "      <th>...</th>\n",
       "      <td>...</td>\n",
       "      <td>...</td>\n",
       "      <td>...</td>\n",
       "      <td>...</td>\n",
       "      <td>...</td>\n",
       "      <td>...</td>\n",
       "      <td>...</td>\n",
       "    </tr>\n",
       "    <tr>\n",
       "      <th>6421</th>\n",
       "      <td>0.00</td>\n",
       "      <td>0.00</td>\n",
       "      <td>0.00</td>\n",
       "      <td>0.00</td>\n",
       "      <td>100</td>\n",
       "      <td>0.00</td>\n",
       "      <td>0.00</td>\n",
       "    </tr>\n",
       "    <tr>\n",
       "      <th>6422</th>\n",
       "      <td>0.00</td>\n",
       "      <td>0.00</td>\n",
       "      <td>0.00</td>\n",
       "      <td>0.00</td>\n",
       "      <td>16400</td>\n",
       "      <td>0.00</td>\n",
       "      <td>0.00</td>\n",
       "    </tr>\n",
       "    <tr>\n",
       "      <th>6423</th>\n",
       "      <td>0.00</td>\n",
       "      <td>0.00</td>\n",
       "      <td>0.00</td>\n",
       "      <td>0.00</td>\n",
       "      <td>19400</td>\n",
       "      <td>0.00</td>\n",
       "      <td>0.00</td>\n",
       "    </tr>\n",
       "    <tr>\n",
       "      <th>6424</th>\n",
       "      <td>0.00</td>\n",
       "      <td>0.00</td>\n",
       "      <td>0.00</td>\n",
       "      <td>0.00</td>\n",
       "      <td>83850</td>\n",
       "      <td>0.00</td>\n",
       "      <td>0.00</td>\n",
       "    </tr>\n",
       "    <tr>\n",
       "      <th>6425</th>\n",
       "      <td>0.00</td>\n",
       "      <td>0.00</td>\n",
       "      <td>0.00</td>\n",
       "      <td>0.00</td>\n",
       "      <td>125</td>\n",
       "      <td>0.00</td>\n",
       "      <td>0.00</td>\n",
       "    </tr>\n",
       "  </tbody>\n",
       "</table>\n",
       "<p>6426 rows × 7 columns</p>\n",
       "</div>"
      ],
      "text/plain": [
       "      Open  High  Low  Close    Volume  Dividends  Stock Splits\n",
       "0     8.89  8.93 8.89   8.89  11909600       0.00          0.00\n",
       "1     8.89 10.00 8.89   8.89   4982500       0.00          0.00\n",
       "2     9.74  9.74 9.30   9.48   1265400       0.00          0.00\n",
       "3     9.33  9.33 8.89   8.89   1166300       0.00          0.00\n",
       "4     8.89  8.93 8.15   8.19   1250800       0.00          0.00\n",
       "...    ...   ...  ...    ...       ...        ...           ...\n",
       "6421  0.00  0.00 0.00   0.00       100       0.00          0.00\n",
       "6422  0.00  0.00 0.00   0.00     16400       0.00          0.00\n",
       "6423  0.00  0.00 0.00   0.00     19400       0.00          0.00\n",
       "6424  0.00  0.00 0.00   0.00     83850       0.00          0.00\n",
       "6425  0.00  0.00 0.00   0.00       125       0.00          0.00\n",
       "\n",
       "[6426 rows x 7 columns]"
      ]
     },
     "execution_count": 15,
     "metadata": {},
     "output_type": "execute_result"
    }
   ],
   "source": [
    "train_df = train_df.drop('Date', axis=1)\n",
    "train_df"
   ]
  },
  {
   "cell_type": "code",
   "execution_count": 16,
   "metadata": {},
   "outputs": [
    {
     "data": {
      "text/html": [
       "<div>\n",
       "<style scoped>\n",
       "    .dataframe tbody tr th:only-of-type {\n",
       "        vertical-align: middle;\n",
       "    }\n",
       "\n",
       "    .dataframe tbody tr th {\n",
       "        vertical-align: top;\n",
       "    }\n",
       "\n",
       "    .dataframe thead th {\n",
       "        text-align: right;\n",
       "    }\n",
       "</style>\n",
       "<table border=\"1\" class=\"dataframe\">\n",
       "  <thead>\n",
       "    <tr style=\"text-align: right;\">\n",
       "      <th></th>\n",
       "      <th>Незаполнено столбце %</th>\n",
       "    </tr>\n",
       "  </thead>\n",
       "  <tbody>\n",
       "    <tr>\n",
       "      <th>Open</th>\n",
       "      <td>0.00</td>\n",
       "    </tr>\n",
       "    <tr>\n",
       "      <th>High</th>\n",
       "      <td>0.00</td>\n",
       "    </tr>\n",
       "    <tr>\n",
       "      <th>Low</th>\n",
       "      <td>0.00</td>\n",
       "    </tr>\n",
       "    <tr>\n",
       "      <th>Close</th>\n",
       "      <td>0.00</td>\n",
       "    </tr>\n",
       "    <tr>\n",
       "      <th>Volume</th>\n",
       "      <td>0.00</td>\n",
       "    </tr>\n",
       "    <tr>\n",
       "      <th>Dividends</th>\n",
       "      <td>0.00</td>\n",
       "    </tr>\n",
       "    <tr>\n",
       "      <th>Stock Splits</th>\n",
       "      <td>0.00</td>\n",
       "    </tr>\n",
       "  </tbody>\n",
       "</table>\n",
       "</div>"
      ],
      "text/plain": [
       "              Незаполнено столбце %\n",
       "Open                           0.00\n",
       "High                           0.00\n",
       "Low                            0.00\n",
       "Close                          0.00\n",
       "Volume                         0.00\n",
       "Dividends                      0.00\n",
       "Stock Splits                   0.00"
      ]
     },
     "execution_count": 16,
     "metadata": {},
     "output_type": "execute_result"
    }
   ],
   "source": [
    "#Подсчитываем сколько процентов незаполнено столбце\n",
    "percent_missing = train_df.isnull().sum() * 100 / len(train_df.index)\n",
    "missing_value_df = pd.DataFrame({'Незаполнено столбце %': percent_missing})\n",
    "\n",
    "missing_value_df"
   ]
  },
  {
   "cell_type": "markdown",
   "metadata": {},
   "source": [
    "Уменьшим вес таблицы с помощью изменения типа данных."
   ]
  },
  {
   "cell_type": "code",
   "execution_count": 17,
   "metadata": {},
   "outputs": [],
   "source": [
    "int_cols = train_df.select_dtypes('int').columns\n",
    "\n",
    "float_cols = train_df.select_dtypes('float').columns\n",
    "for col in int_cols:\n",
    "    train_df[col] = pd.to_numeric(train_df[col], downcast='integer')\n",
    "for col in float_cols:\n",
    "    train_df[col] = pd.to_numeric(train_df[col], downcast='float')"
   ]
  },
  {
   "cell_type": "code",
   "execution_count": 18,
   "metadata": {},
   "outputs": [
    {
     "name": "stdout",
     "output_type": "stream",
     "text": [
      "<class 'pandas.core.frame.DataFrame'>\n",
      "RangeIndex: 6426 entries, 0 to 6425\n",
      "Data columns (total 7 columns):\n",
      " #   Column        Non-Null Count  Dtype  \n",
      "---  ------        --------------  -----  \n",
      " 0   Open          6426 non-null   float32\n",
      " 1   High          6426 non-null   float32\n",
      " 2   Low           6426 non-null   float32\n",
      " 3   Close         6426 non-null   float32\n",
      " 4   Volume        6426 non-null   int32  \n",
      " 5   Dividends     6426 non-null   float32\n",
      " 6   Stock Splits  6426 non-null   float32\n",
      "dtypes: float32(6), int32(1)\n",
      "memory usage: 175.8 KB\n"
     ]
    }
   ],
   "source": [
    "train_df.info(memory_usage=True)"
   ]
  },
  {
   "cell_type": "markdown",
   "metadata": {},
   "source": [
    "# EDA"
   ]
  },
  {
   "cell_type": "code",
   "execution_count": 19,
   "metadata": {},
   "outputs": [
    {
     "data": {
      "text/html": [
       "<div>\n",
       "<style scoped>\n",
       "    .dataframe tbody tr th:only-of-type {\n",
       "        vertical-align: middle;\n",
       "    }\n",
       "\n",
       "    .dataframe tbody tr th {\n",
       "        vertical-align: top;\n",
       "    }\n",
       "\n",
       "    .dataframe thead th {\n",
       "        text-align: right;\n",
       "    }\n",
       "</style>\n",
       "<table border=\"1\" class=\"dataframe\">\n",
       "  <thead>\n",
       "    <tr style=\"text-align: right;\">\n",
       "      <th></th>\n",
       "      <th>Незаполнено столбце %</th>\n",
       "    </tr>\n",
       "  </thead>\n",
       "  <tbody>\n",
       "    <tr>\n",
       "      <th>Open</th>\n",
       "      <td>0.00</td>\n",
       "    </tr>\n",
       "    <tr>\n",
       "      <th>High</th>\n",
       "      <td>0.00</td>\n",
       "    </tr>\n",
       "    <tr>\n",
       "      <th>Low</th>\n",
       "      <td>0.00</td>\n",
       "    </tr>\n",
       "    <tr>\n",
       "      <th>Close</th>\n",
       "      <td>0.00</td>\n",
       "    </tr>\n",
       "    <tr>\n",
       "      <th>Volume</th>\n",
       "      <td>0.00</td>\n",
       "    </tr>\n",
       "    <tr>\n",
       "      <th>Dividends</th>\n",
       "      <td>0.00</td>\n",
       "    </tr>\n",
       "    <tr>\n",
       "      <th>Stock Splits</th>\n",
       "      <td>0.00</td>\n",
       "    </tr>\n",
       "  </tbody>\n",
       "</table>\n",
       "</div>"
      ],
      "text/plain": [
       "              Незаполнено столбце %\n",
       "Open                           0.00\n",
       "High                           0.00\n",
       "Low                            0.00\n",
       "Close                          0.00\n",
       "Volume                         0.00\n",
       "Dividends                      0.00\n",
       "Stock Splits                   0.00"
      ]
     },
     "execution_count": 19,
     "metadata": {},
     "output_type": "execute_result"
    }
   ],
   "source": [
    "#Подсчитываем сколько процентов незаполнено столбце\n",
    "percent_missing = train_df.isnull().sum() * 100 / len(train_df.index)\n",
    "missing_value_df = pd.DataFrame({'Незаполнено столбце %': percent_missing})\n",
    "\n",
    "missing_value_df"
   ]
  },
  {
   "cell_type": "code",
   "execution_count": 20,
   "metadata": {},
   "outputs": [
    {
     "data": {
      "text/html": [
       "<div>\n",
       "<style scoped>\n",
       "    .dataframe tbody tr th:only-of-type {\n",
       "        vertical-align: middle;\n",
       "    }\n",
       "\n",
       "    .dataframe tbody tr th {\n",
       "        vertical-align: top;\n",
       "    }\n",
       "\n",
       "    .dataframe thead th {\n",
       "        text-align: right;\n",
       "    }\n",
       "</style>\n",
       "<table border=\"1\" class=\"dataframe\">\n",
       "  <thead>\n",
       "    <tr style=\"text-align: right;\">\n",
       "      <th></th>\n",
       "      <th>Максимальное значение</th>\n",
       "      <th>Минимальное значение</th>\n",
       "    </tr>\n",
       "  </thead>\n",
       "  <tbody>\n",
       "    <tr>\n",
       "      <th>Open</th>\n",
       "      <td>17.90</td>\n",
       "      <td>0.00</td>\n",
       "    </tr>\n",
       "    <tr>\n",
       "      <th>High</th>\n",
       "      <td>18.20</td>\n",
       "      <td>0.00</td>\n",
       "    </tr>\n",
       "    <tr>\n",
       "      <th>Low</th>\n",
       "      <td>17.58</td>\n",
       "      <td>0.00</td>\n",
       "    </tr>\n",
       "    <tr>\n",
       "      <th>Close</th>\n",
       "      <td>18.05</td>\n",
       "      <td>0.00</td>\n",
       "    </tr>\n",
       "    <tr>\n",
       "      <th>Volume</th>\n",
       "      <td>69,030,690.00</td>\n",
       "      <td>0.00</td>\n",
       "    </tr>\n",
       "    <tr>\n",
       "      <th>Dividends</th>\n",
       "      <td>5.00</td>\n",
       "      <td>0.00</td>\n",
       "    </tr>\n",
       "    <tr>\n",
       "      <th>Stock Splits</th>\n",
       "      <td>0.00</td>\n",
       "      <td>0.00</td>\n",
       "    </tr>\n",
       "  </tbody>\n",
       "</table>\n",
       "</div>"
      ],
      "text/plain": [
       "              Максимальное значение  Минимальное значение\n",
       "Open                          17.90                  0.00\n",
       "High                          18.20                  0.00\n",
       "Low                           17.58                  0.00\n",
       "Close                         18.05                  0.00\n",
       "Volume                69,030,690.00                  0.00\n",
       "Dividends                      5.00                  0.00\n",
       "Stock Splits                   0.00                  0.00"
      ]
     },
     "execution_count": 20,
     "metadata": {},
     "output_type": "execute_result"
    }
   ],
   "source": [
    "#Находим максимальные и минимальные значения\n",
    "min_max_df = pd.DataFrame({'Максимальное значение': train_df.max(), 'Минимальное значение': train_df.min()})\n",
    "\n",
    "min_max_df"
   ]
  },
  {
   "cell_type": "code",
   "execution_count": 21,
   "metadata": {},
   "outputs": [
    {
     "data": {
      "text/html": [
       "<div>\n",
       "<style scoped>\n",
       "    .dataframe tbody tr th:only-of-type {\n",
       "        vertical-align: middle;\n",
       "    }\n",
       "\n",
       "    .dataframe tbody tr th {\n",
       "        vertical-align: top;\n",
       "    }\n",
       "\n",
       "    .dataframe thead th {\n",
       "        text-align: right;\n",
       "    }\n",
       "</style>\n",
       "<table border=\"1\" class=\"dataframe\">\n",
       "  <thead>\n",
       "    <tr style=\"text-align: right;\">\n",
       "      <th></th>\n",
       "      <th>Среднее значение</th>\n",
       "    </tr>\n",
       "  </thead>\n",
       "  <tbody>\n",
       "    <tr>\n",
       "      <th>Open</th>\n",
       "      <td>2.94</td>\n",
       "    </tr>\n",
       "    <tr>\n",
       "      <th>High</th>\n",
       "      <td>3.00</td>\n",
       "    </tr>\n",
       "    <tr>\n",
       "      <th>Low</th>\n",
       "      <td>2.87</td>\n",
       "    </tr>\n",
       "    <tr>\n",
       "      <th>Close</th>\n",
       "      <td>2.94</td>\n",
       "    </tr>\n",
       "    <tr>\n",
       "      <th>Volume</th>\n",
       "      <td>1,283,074.34</td>\n",
       "    </tr>\n",
       "    <tr>\n",
       "      <th>Dividends</th>\n",
       "      <td>0.00</td>\n",
       "    </tr>\n",
       "    <tr>\n",
       "      <th>Stock Splits</th>\n",
       "      <td>0.00</td>\n",
       "    </tr>\n",
       "  </tbody>\n",
       "</table>\n",
       "</div>"
      ],
      "text/plain": [
       "              Среднее значение\n",
       "Open                      2.94\n",
       "High                      3.00\n",
       "Low                       2.87\n",
       "Close                     2.94\n",
       "Volume            1,283,074.34\n",
       "Dividends                 0.00\n",
       "Stock Splits              0.00"
      ]
     },
     "execution_count": 21,
     "metadata": {},
     "output_type": "execute_result"
    }
   ],
   "source": [
    "#Находим средние значения\n",
    "mean_df = pd.DataFrame({'Среднее значение': train_df.mean()})\n",
    "\n",
    "mean_df"
   ]
  },
  {
   "cell_type": "code",
   "execution_count": 23,
   "metadata": {},
   "outputs": [
    {
     "data": {
      "text/html": [
       "<div>\n",
       "<style scoped>\n",
       "    .dataframe tbody tr th:only-of-type {\n",
       "        vertical-align: middle;\n",
       "    }\n",
       "\n",
       "    .dataframe tbody tr th {\n",
       "        vertical-align: top;\n",
       "    }\n",
       "\n",
       "    .dataframe thead th {\n",
       "        text-align: right;\n",
       "    }\n",
       "</style>\n",
       "<table border=\"1\" class=\"dataframe\">\n",
       "  <thead>\n",
       "    <tr style=\"text-align: right;\">\n",
       "      <th></th>\n",
       "      <th>Медиана</th>\n",
       "    </tr>\n",
       "  </thead>\n",
       "  <tbody>\n",
       "    <tr>\n",
       "      <th>Open</th>\n",
       "      <td>0.02</td>\n",
       "    </tr>\n",
       "    <tr>\n",
       "      <th>High</th>\n",
       "      <td>0.03</td>\n",
       "    </tr>\n",
       "    <tr>\n",
       "      <th>Low</th>\n",
       "      <td>0.02</td>\n",
       "    </tr>\n",
       "    <tr>\n",
       "      <th>Close</th>\n",
       "      <td>0.02</td>\n",
       "    </tr>\n",
       "    <tr>\n",
       "      <th>Volume</th>\n",
       "      <td>224,350.00</td>\n",
       "    </tr>\n",
       "    <tr>\n",
       "      <th>Dividends</th>\n",
       "      <td>0.00</td>\n",
       "    </tr>\n",
       "    <tr>\n",
       "      <th>Stock Splits</th>\n",
       "      <td>0.00</td>\n",
       "    </tr>\n",
       "  </tbody>\n",
       "</table>\n",
       "</div>"
      ],
      "text/plain": [
       "                Медиана\n",
       "Open               0.02\n",
       "High               0.03\n",
       "Low                0.02\n",
       "Close              0.02\n",
       "Volume       224,350.00\n",
       "Dividends          0.00\n",
       "Stock Splits       0.00"
      ]
     },
     "execution_count": 23,
     "metadata": {},
     "output_type": "execute_result"
    }
   ],
   "source": [
    "#Находим медиану\n",
    "median_df = pd.DataFrame({'Медиана': train_df.median()})\n",
    "\n",
    "median_df"
   ]
  },
  {
   "cell_type": "code",
   "execution_count": 24,
   "metadata": {},
   "outputs": [
    {
     "data": {
      "text/html": [
       "<div>\n",
       "<style scoped>\n",
       "    .dataframe tbody tr th:only-of-type {\n",
       "        vertical-align: middle;\n",
       "    }\n",
       "\n",
       "    .dataframe tbody tr th {\n",
       "        vertical-align: top;\n",
       "    }\n",
       "\n",
       "    .dataframe thead th {\n",
       "        text-align: right;\n",
       "    }\n",
       "</style>\n",
       "<table border=\"1\" class=\"dataframe\">\n",
       "  <thead>\n",
       "    <tr style=\"text-align: right;\">\n",
       "      <th></th>\n",
       "      <th>Диспрерсия</th>\n",
       "    </tr>\n",
       "  </thead>\n",
       "  <tbody>\n",
       "    <tr>\n",
       "      <th>Open</th>\n",
       "      <td>19.38</td>\n",
       "    </tr>\n",
       "    <tr>\n",
       "      <th>High</th>\n",
       "      <td>20.07</td>\n",
       "    </tr>\n",
       "    <tr>\n",
       "      <th>Low</th>\n",
       "      <td>18.64</td>\n",
       "    </tr>\n",
       "    <tr>\n",
       "      <th>Close</th>\n",
       "      <td>19.37</td>\n",
       "    </tr>\n",
       "    <tr>\n",
       "      <th>Volume</th>\n",
       "      <td>9,110,123,432,263.73</td>\n",
       "    </tr>\n",
       "    <tr>\n",
       "      <th>Dividends</th>\n",
       "      <td>0.00</td>\n",
       "    </tr>\n",
       "    <tr>\n",
       "      <th>Stock Splits</th>\n",
       "      <td>0.00</td>\n",
       "    </tr>\n",
       "  </tbody>\n",
       "</table>\n",
       "</div>"
      ],
      "text/plain": [
       "                       Диспрерсия\n",
       "Open                        19.38\n",
       "High                        20.07\n",
       "Low                         18.64\n",
       "Close                       19.37\n",
       "Volume       9,110,123,432,263.73\n",
       "Dividends                    0.00\n",
       "Stock Splits                 0.00"
      ]
     },
     "execution_count": 24,
     "metadata": {},
     "output_type": "execute_result"
    }
   ],
   "source": [
    "#Находим дисперсию\n",
    "var_df = pd.DataFrame({'Диспрерсия': train_df.var()})\n",
    "\n",
    "var_df"
   ]
  },
  {
   "cell_type": "code",
   "execution_count": 25,
   "metadata": {},
   "outputs": [
    {
     "data": {
      "text/html": [
       "<div>\n",
       "<style scoped>\n",
       "    .dataframe tbody tr th:only-of-type {\n",
       "        vertical-align: middle;\n",
       "    }\n",
       "\n",
       "    .dataframe tbody tr th {\n",
       "        vertical-align: top;\n",
       "    }\n",
       "\n",
       "    .dataframe thead th {\n",
       "        text-align: right;\n",
       "    }\n",
       "</style>\n",
       "<table border=\"1\" class=\"dataframe\">\n",
       "  <thead>\n",
       "    <tr style=\"text-align: right;\">\n",
       "      <th></th>\n",
       "      <th>Квантиль 0.1</th>\n",
       "      <th>Квантиль 0.9</th>\n",
       "    </tr>\n",
       "  </thead>\n",
       "  <tbody>\n",
       "    <tr>\n",
       "      <th>Open</th>\n",
       "      <td>0.00</td>\n",
       "      <td>10.17</td>\n",
       "    </tr>\n",
       "    <tr>\n",
       "      <th>High</th>\n",
       "      <td>0.00</td>\n",
       "      <td>10.32</td>\n",
       "    </tr>\n",
       "    <tr>\n",
       "      <th>Low</th>\n",
       "      <td>0.00</td>\n",
       "      <td>9.96</td>\n",
       "    </tr>\n",
       "    <tr>\n",
       "      <th>Close</th>\n",
       "      <td>0.00</td>\n",
       "      <td>10.16</td>\n",
       "    </tr>\n",
       "    <tr>\n",
       "      <th>Volume</th>\n",
       "      <td>1,290.00</td>\n",
       "      <td>3,541,450.00</td>\n",
       "    </tr>\n",
       "    <tr>\n",
       "      <th>Dividends</th>\n",
       "      <td>0.00</td>\n",
       "      <td>0.00</td>\n",
       "    </tr>\n",
       "    <tr>\n",
       "      <th>Stock Splits</th>\n",
       "      <td>0.00</td>\n",
       "      <td>0.00</td>\n",
       "    </tr>\n",
       "  </tbody>\n",
       "</table>\n",
       "</div>"
      ],
      "text/plain": [
       "              Квантиль 0.1  Квантиль 0.9\n",
       "Open                  0.00         10.17\n",
       "High                  0.00         10.32\n",
       "Low                   0.00          9.96\n",
       "Close                 0.00         10.16\n",
       "Volume            1,290.00  3,541,450.00\n",
       "Dividends             0.00          0.00\n",
       "Stock Splits          0.00          0.00"
      ]
     },
     "execution_count": 25,
     "metadata": {},
     "output_type": "execute_result"
    }
   ],
   "source": [
    "#Находим квантиль 0.1 и 0.9\n",
    "quantile_df = pd.DataFrame({'Квантиль 0.1': train_df.quantile(0.1), 'Квантиль 0.9': train_df.quantile(0.9)})\n",
    "\n",
    "quantile_df"
   ]
  },
  {
   "cell_type": "code",
   "execution_count": 26,
   "metadata": {},
   "outputs": [
    {
     "data": {
      "text/html": [
       "<div>\n",
       "<style scoped>\n",
       "    .dataframe tbody tr th:only-of-type {\n",
       "        vertical-align: middle;\n",
       "    }\n",
       "\n",
       "    .dataframe tbody tr th {\n",
       "        vertical-align: top;\n",
       "    }\n",
       "\n",
       "    .dataframe thead th {\n",
       "        text-align: right;\n",
       "    }\n",
       "</style>\n",
       "<table border=\"1\" class=\"dataframe\">\n",
       "  <thead>\n",
       "    <tr style=\"text-align: right;\">\n",
       "      <th></th>\n",
       "      <th>Квартиль 1</th>\n",
       "      <th>Квартиль 3</th>\n",
       "    </tr>\n",
       "  </thead>\n",
       "  <tbody>\n",
       "    <tr>\n",
       "      <th>Open</th>\n",
       "      <td>0.00</td>\n",
       "      <td>5.34</td>\n",
       "    </tr>\n",
       "    <tr>\n",
       "      <th>High</th>\n",
       "      <td>0.01</td>\n",
       "      <td>5.46</td>\n",
       "    </tr>\n",
       "    <tr>\n",
       "      <th>Low</th>\n",
       "      <td>0.00</td>\n",
       "      <td>5.22</td>\n",
       "    </tr>\n",
       "    <tr>\n",
       "      <th>Close</th>\n",
       "      <td>0.01</td>\n",
       "      <td>5.35</td>\n",
       "    </tr>\n",
       "    <tr>\n",
       "      <th>Volume</th>\n",
       "      <td>16,638.50</td>\n",
       "      <td>1,340,873.50</td>\n",
       "    </tr>\n",
       "    <tr>\n",
       "      <th>Dividends</th>\n",
       "      <td>0.00</td>\n",
       "      <td>0.00</td>\n",
       "    </tr>\n",
       "    <tr>\n",
       "      <th>Stock Splits</th>\n",
       "      <td>0.00</td>\n",
       "      <td>0.00</td>\n",
       "    </tr>\n",
       "  </tbody>\n",
       "</table>\n",
       "</div>"
      ],
      "text/plain": [
       "              Квартиль 1   Квартиль 3\n",
       "Open                0.00         5.34\n",
       "High                0.01         5.46\n",
       "Low                 0.00         5.22\n",
       "Close               0.01         5.35\n",
       "Volume         16,638.50 1,340,873.50\n",
       "Dividends           0.00         0.00\n",
       "Stock Splits        0.00         0.00"
      ]
     },
     "execution_count": 26,
     "metadata": {},
     "output_type": "execute_result"
    }
   ],
   "source": [
    "#Находим квартиль 1 и 3\n",
    "quartile_df = pd.DataFrame({'Квартиль 1': train_df.quantile(0.25), 'Квартиль 3': train_df.quantile(0.75)})\n",
    "\n",
    "quartile_df"
   ]
  },
  {
   "cell_type": "markdown",
   "metadata": {},
   "source": [
    "# Обработка данных"
   ]
  },
  {
   "cell_type": "code",
   "execution_count": 28,
   "metadata": {},
   "outputs": [
    {
     "data": {
      "image/png": "[encoded data removed]",
      "text/plain": [
       "<Figure size 640x480 with 1 Axes>"
      ]
     },
     "metadata": {},
     "output_type": "display_data"
    }
   ],
   "source": [
    "sns.histplot(train_df['Volume'], kde=True)\n",
    "plt.title(\"Распределение целевой переменной в train.csv\")\n",
    "plt.show()"
   ]
  },
  {
   "cell_type": "markdown",
   "metadata": {},
   "source": [
    "Можно заметить несколько скачков в графике. Посмотрим на распределение данных во всей таблице"
   ]
  },
  {
   "cell_type": "code",
   "execution_count": 29,
   "metadata": {},
   "outputs": [
    {
     "data": {
      "text/plain": [
       "count        6,426.00\n",
       "mean     1,283,074.34\n",
       "std      3,018,298.10\n",
       "min              0.00\n",
       "10%          1,290.00\n",
       "25%         16,638.50\n",
       "50%        224,350.00\n",
       "75%      1,340,873.50\n",
       "95%      5,459,486.25\n",
       "max     69,030,690.00\n",
       "Name: Volume, dtype: float64"
      ]
     },
     "execution_count": 29,
     "metadata": {},
     "output_type": "execute_result"
    }
   ],
   "source": [
    "# посчитаем квантили распределения\n",
    "train_df['Volume'].describe(percentiles=[0.1, 0.25, 0.75, 0.95 ])"
   ]
  },
  {
   "cell_type": "code",
   "execution_count": 30,
   "metadata": {},
   "outputs": [
    {
     "data": {
      "text/html": [
       "<div>\n",
       "<style scoped>\n",
       "    .dataframe tbody tr th:only-of-type {\n",
       "        vertical-align: middle;\n",
       "    }\n",
       "\n",
       "    .dataframe tbody tr th {\n",
       "        vertical-align: top;\n",
       "    }\n",
       "\n",
       "    .dataframe thead th {\n",
       "        text-align: right;\n",
       "    }\n",
       "</style>\n",
       "<table border=\"1\" class=\"dataframe\">\n",
       "  <thead>\n",
       "    <tr style=\"text-align: right;\">\n",
       "      <th></th>\n",
       "      <th>Open</th>\n",
       "      <th>High</th>\n",
       "      <th>Low</th>\n",
       "      <th>Close</th>\n",
       "      <th>Volume</th>\n",
       "      <th>Dividends</th>\n",
       "      <th>Stock Splits</th>\n",
       "    </tr>\n",
       "  </thead>\n",
       "  <tbody>\n",
       "    <tr>\n",
       "      <th>count</th>\n",
       "      <td>6,426.00</td>\n",
       "      <td>6,426.00</td>\n",
       "      <td>6,426.00</td>\n",
       "      <td>6,426.00</td>\n",
       "      <td>6,426.00</td>\n",
       "      <td>6,426.00</td>\n",
       "      <td>6,426.00</td>\n",
       "    </tr>\n",
       "    <tr>\n",
       "      <th>mean</th>\n",
       "      <td>2.94</td>\n",
       "      <td>3.00</td>\n",
       "      <td>2.87</td>\n",
       "      <td>2.94</td>\n",
       "      <td>1,283,074.34</td>\n",
       "      <td>0.00</td>\n",
       "      <td>0.00</td>\n",
       "    </tr>\n",
       "    <tr>\n",
       "      <th>std</th>\n",
       "      <td>4.40</td>\n",
       "      <td>4.48</td>\n",
       "      <td>4.32</td>\n",
       "      <td>4.40</td>\n",
       "      <td>3,018,298.10</td>\n",
       "      <td>0.06</td>\n",
       "      <td>0.00</td>\n",
       "    </tr>\n",
       "    <tr>\n",
       "      <th>min</th>\n",
       "      <td>0.00</td>\n",
       "      <td>0.00</td>\n",
       "      <td>0.00</td>\n",
       "      <td>0.00</td>\n",
       "      <td>0.00</td>\n",
       "      <td>0.00</td>\n",
       "      <td>0.00</td>\n",
       "    </tr>\n",
       "    <tr>\n",
       "      <th>25%</th>\n",
       "      <td>0.00</td>\n",
       "      <td>0.01</td>\n",
       "      <td>0.00</td>\n",
       "      <td>0.01</td>\n",
       "      <td>16,638.50</td>\n",
       "      <td>0.00</td>\n",
       "      <td>0.00</td>\n",
       "    </tr>\n",
       "    <tr>\n",
       "      <th>50%</th>\n",
       "      <td>0.02</td>\n",
       "      <td>0.03</td>\n",
       "      <td>0.02</td>\n",
       "      <td>0.02</td>\n",
       "      <td>224,350.00</td>\n",
       "      <td>0.00</td>\n",
       "      <td>0.00</td>\n",
       "    </tr>\n",
       "    <tr>\n",
       "      <th>75%</th>\n",
       "      <td>5.34</td>\n",
       "      <td>5.46</td>\n",
       "      <td>5.22</td>\n",
       "      <td>5.35</td>\n",
       "      <td>1,340,873.50</td>\n",
       "      <td>0.00</td>\n",
       "      <td>0.00</td>\n",
       "    </tr>\n",
       "    <tr>\n",
       "      <th>max</th>\n",
       "      <td>17.90</td>\n",
       "      <td>18.20</td>\n",
       "      <td>17.58</td>\n",
       "      <td>18.05</td>\n",
       "      <td>69,030,690.00</td>\n",
       "      <td>5.00</td>\n",
       "      <td>0.00</td>\n",
       "    </tr>\n",
       "  </tbody>\n",
       "</table>\n",
       "</div>"
      ],
      "text/plain": [
       "          Open     High      Low    Close        Volume  Dividends  \\\n",
       "count 6,426.00 6,426.00 6,426.00 6,426.00      6,426.00   6,426.00   \n",
       "mean      2.94     3.00     2.87     2.94  1,283,074.34       0.00   \n",
       "std       4.40     4.48     4.32     4.40  3,018,298.10       0.06   \n",
       "min       0.00     0.00     0.00     0.00          0.00       0.00   \n",
       "25%       0.00     0.01     0.00     0.01     16,638.50       0.00   \n",
       "50%       0.02     0.03     0.02     0.02    224,350.00       0.00   \n",
       "75%       5.34     5.46     5.22     5.35  1,340,873.50       0.00   \n",
       "max      17.90    18.20    17.58    18.05 69,030,690.00       5.00   \n",
       "\n",
       "       Stock Splits  \n",
       "count      6,426.00  \n",
       "mean           0.00  \n",
       "std            0.00  \n",
       "min            0.00  \n",
       "25%            0.00  \n",
       "50%            0.00  \n",
       "75%            0.00  \n",
       "max            0.00  "
      ]
     },
     "execution_count": 30,
     "metadata": {},
     "output_type": "execute_result"
    }
   ],
   "source": [
    "train_df.describe(include='all')"
   ]
  },
  {
   "cell_type": "code",
   "execution_count": 32,
   "metadata": {},
   "outputs": [
    {
     "data": {
      "image/png": "[encoded data removed]",
      "text/plain": [
       "<Figure size 2000x600 with 7 Axes>"
      ]
     },
     "metadata": {},
     "output_type": "display_data"
    }
   ],
   "source": [
    "train_df.plot(\n",
    "    kind='box',\n",
    "    subplots=True,\n",
    "    sharey=False,\n",
    "    figsize= (20,6))\n",
    "\n",
    "plt.subplots_adjust(wspace=0.9)\n",
    "plt.show()"
   ]
  },
  {
   "cell_type": "markdown",
   "metadata": {},
   "source": [
    "В столбцах 'Annual Income', 'Previous Claims', 'Premium Amount' можно заметить выбросы. Избавимся от них"
   ]
  },
  {
   "cell_type": "code",
   "execution_count": 33,
   "metadata": {},
   "outputs": [],
   "source": [
    "def RemoveOutliers(df, column):\n",
    "    # убираем выбросы\n",
    "    Q3 = np.quantile(df[column], 0.75, axis=0)\n",
    "    Q1 = np.quantile(df[column], 0.25, axis=0)\n",
    "    IQR = Q3 - Q1\n",
    "    upper = Q3 + 1.5 * IQR\n",
    "    lower = Q1 - 1.5 * IQR\n",
    "    df[column] = np.where((df[column] > upper), upper, df[column])\n",
    "    df[column] = np.where((df[column] < lower), lower, df[column])\n",
    "    return df"
   ]
  },
  {
   "cell_type": "code",
   "execution_count": 34,
   "metadata": {},
   "outputs": [],
   "source": [
    "for col in train_df.columns:\n",
    "    train_df = RemoveOutliers(train_df, col)"
   ]
  },
  {
   "cell_type": "code",
   "execution_count": 35,
   "metadata": {},
   "outputs": [
    {
     "data": {
      "image/png": "[encoded data removed]",
      "text/plain": [
       "<Figure size 2000x600 with 7 Axes>"
      ]
     },
     "metadata": {},
     "output_type": "display_data"
    }
   ],
   "source": [
    "train_df.plot(\n",
    "    kind='box',\n",
    "    subplots=True,\n",
    "    sharey=False,\n",
    "    figsize= (20,6))\n",
    "\n",
    "plt.subplots_adjust(wspace=0.9)\n",
    "plt.show()"
   ]
  },
  {
   "cell_type": "code",
   "execution_count": 36,
   "metadata": {},
   "outputs": [
    {
     "data": {
      "image/png": "[encoded data removed]",
      "text/plain": [
       "<Figure size 1000x1000 with 2 Axes>"
      ]
     },
     "metadata": {},
     "output_type": "display_data"
    }
   ],
   "source": [
    "import matplotlib.pyplot as plt\n",
    "import seaborn as sns\n",
    "\n",
    "plt.figure(figsize=(10,10))\n",
    "sns.heatmap(train_df.corr(), cmap=\"YlGnBu\", annot=True, fmt=\".2f\")\n",
    "plt.title(\"Матрица корреляции столбцов\")\n",
    "plt.show()"
   ]
  },
  {
   "cell_type": "markdown",
   "metadata": {},
   "source": [
    "Между столбцами нет сильной корреляции. Нет необходимости какой-либо из них удалять."
   ]
  },
  {
   "cell_type": "markdown",
   "metadata": {},
   "source": [
    "# Обучение моделей"
   ]
  },
  {
   "cell_type": "code",
   "execution_count": 37,
   "metadata": {},
   "outputs": [],
   "source": [
    "X = train_df.drop('Volume', axis=1)\n",
    "Y = train_df['Volume']"
   ]
  },
  {
   "cell_type": "code",
   "execution_count": 38,
   "metadata": {},
   "outputs": [],
   "source": [
    "X_train, X_test, y_train, y_test = train_test_split(X, Y, train_size=0.3, random_state = 42)"
   ]
  },
  {
   "cell_type": "code",
   "execution_count": 39,
   "metadata": {},
   "outputs": [],
   "source": [
    "# словарь для оценок качества моделей\n",
    "regression_error = {}"
   ]
  },
  {
   "cell_type": "markdown",
   "metadata": {},
   "source": [
    "# Модель регрессии дерева решений"
   ]
  },
  {
   "cell_type": "code",
   "execution_count": 40,
   "metadata": {},
   "outputs": [],
   "source": [
    "regressor_tree = DecisionTreeRegressor()\n",
    "regressor_tree.fit(X_train, y_train)\n",
    "Y_pred_test = regressor_tree.predict(X_test)\n",
    "regression_error['Regressor tree'] = {\"RMSE\":root_mean_squared_error(y_test, Y_pred_test),\"MSE\":mean_squared_error(y_test, Y_pred_test), \"MAE\": mean_absolute_error(y_test, Y_pred_test)}"
   ]
  },
  {
   "cell_type": "code",
   "execution_count": 41,
   "metadata": {},
   "outputs": [
    {
     "data": {
      "text/plain": [
       "{'RMSE': 829387.2588481822, 'MSE': 687883225139.7015, 'MAE': 440520.4137862135}"
      ]
     },
     "execution_count": 41,
     "metadata": {},
     "output_type": "execute_result"
    }
   ],
   "source": [
    "regression_error['Regressor tree']"
   ]
  },
  {
   "cell_type": "markdown",
   "metadata": {},
   "source": [
    "# Подборка гиперпараметров"
   ]
  },
  {
   "cell_type": "code",
   "execution_count": 42,
   "metadata": {},
   "outputs": [],
   "source": [
    "from sklearn.model_selection import GridSearchCV\n",
    "\n",
    "def findDecisionTreeRegressor(X_train, y_train):\n",
    "\n",
    "    param_grid = {\n",
    "    'max_depth': [ 1, 2, 3, 4, 5],\n",
    "    'min_samples_split': [2, 5, 10],\n",
    "    'min_samples_leaf': [1, 2, 4],\n",
    "    'ccp_alpha': [0.01, 0.02, 0.03]\n",
    "}\n",
    "\n",
    "    # Поиск лучших гиперпараметров\n",
    "    grid_search = GridSearchCV(estimator=DecisionTreeRegressor(), param_grid=param_grid, cv=5,n_jobs=-1)\n",
    "    grid_search.fit(X_train, y_train)\n",
    "\n",
    "    # Лучшие гиперпараметры\n",
    "    best_params = grid_search.best_params_\n",
    "    print(f\"Лучшие гиперпараметры: {best_params}\")\n",
    "    return grid_search"
   ]
  },
  {
   "cell_type": "code",
   "execution_count": 43,
   "metadata": {},
   "outputs": [
    {
     "name": "stdout",
     "output_type": "stream",
     "text": [
      "Лучшие гиперпараметры: {'ccp_alpha': 0.01, 'max_depth': 4, 'min_samples_leaf': 2, 'min_samples_split': 10}\n"
     ]
    }
   ],
   "source": [
    "grid_search = findDecisionTreeRegressor(X_train, y_train)"
   ]
  },
  {
   "cell_type": "code",
   "execution_count": 44,
   "metadata": {},
   "outputs": [],
   "source": [
    "# Создаем модель с лучшим параметры\n",
    "dt_regression = grid_search.best_estimator_"
   ]
  },
  {
   "cell_type": "code",
   "execution_count": 45,
   "metadata": {},
   "outputs": [],
   "source": [
    "Y_pred_test = dt_regression.predict(X_test)\n",
    "regression_error['Regressor tree with best params'] = {\"RMSE\":root_mean_squared_error(y_test, Y_pred_test),\"MSE\":mean_squared_error(y_test, Y_pred_test), \"MAE\": mean_absolute_error(y_test, Y_pred_test)}"
   ]
  },
  {
   "cell_type": "code",
   "execution_count": 46,
   "metadata": {},
   "outputs": [
    {
     "data": {
      "text/plain": [
       "{'RMSE': 716077.7662670395, 'MSE': 512767367341.99286, 'MAE': 449196.342867935}"
      ]
     },
     "execution_count": 46,
     "metadata": {},
     "output_type": "execute_result"
    }
   ],
   "source": [
    "regression_error['Regressor tree with best params']"
   ]
  },
  {
   "cell_type": "code",
   "execution_count": 47,
   "metadata": {},
   "outputs": [
    {
     "data": {
      "text/html": [
       "<div>\n",
       "<style scoped>\n",
       "    .dataframe tbody tr th:only-of-type {\n",
       "        vertical-align: middle;\n",
       "    }\n",
       "\n",
       "    .dataframe tbody tr th {\n",
       "        vertical-align: top;\n",
       "    }\n",
       "\n",
       "    .dataframe thead th {\n",
       "        text-align: right;\n",
       "    }\n",
       "</style>\n",
       "<table border=\"1\" class=\"dataframe\">\n",
       "  <thead>\n",
       "    <tr style=\"text-align: right;\">\n",
       "      <th></th>\n",
       "      <th>Regressor tree</th>\n",
       "      <th>Regressor tree with best params</th>\n",
       "    </tr>\n",
       "  </thead>\n",
       "  <tbody>\n",
       "    <tr>\n",
       "      <th>RMSE</th>\n",
       "      <td>829,387.25885</td>\n",
       "      <td>716,077.76627</td>\n",
       "    </tr>\n",
       "    <tr>\n",
       "      <th>MSE</th>\n",
       "      <td>687,883,225,139.70154</td>\n",
       "      <td>512,767,367,341.99286</td>\n",
       "    </tr>\n",
       "    <tr>\n",
       "      <th>MAE</th>\n",
       "      <td>440,520.41379</td>\n",
       "      <td>449,196.34287</td>\n",
       "    </tr>\n",
       "  </tbody>\n",
       "</table>\n",
       "</div>"
      ],
      "text/plain": [
       "            Regressor tree  Regressor tree with best params\n",
       "RMSE         829,387.25885                    716,077.76627\n",
       "MSE  687,883,225,139.70154            512,767,367,341.99286\n",
       "MAE          440,520.41379                    449,196.34287"
      ]
     },
     "execution_count": 47,
     "metadata": {},
     "output_type": "execute_result"
    }
   ],
   "source": [
    "pd.options.display.float_format = '{:,.5f}'.format\n",
    "regression_error_df = pd.DataFrame(regression_error)\n",
    "regression_error_df"
   ]
  },
  {
   "cell_type": "code",
   "execution_count": 49,
   "metadata": {},
   "outputs": [],
   "source": [
    "from sklearn.metrics import accuracy_score, precision_score, recall_score, f1_score, roc_curve, roc_auc_score\n",
    "\n",
    "def calculate_metrics_and_plot_roc(model, X_train, y_train, X_test, y_test):\n",
    "    # Обучение модели\n",
    "    model.fit(X_train, y_train)\n",
    "\n",
    "    # Предсказание вероятностей на обучающей и тестовой выборке\n",
    "    y_train_proba = model.predict_proba(X_train)[:, 1]\n",
    "    y_test_proba = model.predict_proba(X_test)[:, 1]\n",
    "\n",
    "    # Расчет AUC-ROC\n",
    "    roc_auc_train = roc_auc_score(y_train, y_train_proba)\n",
    "    roc_auc_test = roc_auc_score(y_test, y_test_proba)\n",
    "    print(f\"ROC-AUC Train: {roc_auc_train:.2f}\")\n",
    "    print(f\"ROC-AUC Test: {roc_auc_test:.2f}\")\n",
    "\n",
    "    # Построение ROC-кривой\n",
    "    fpr_train, tpr_train, _ = roc_curve(y_train, y_train_proba)\n",
    "    fpr_test, tpr_test, _ = roc_curve(y_test, y_test_proba)\n",
    "    plt.figure()\n",
    "    plt.plot(fpr_train, tpr_train, color='blue', lw=2, label='ROC Curve Train')\n",
    "    plt.plot(fpr_test, tpr_test, color='darkorange', lw=2, label='ROC Curve Test')\n",
    "    plt.plot([0, 1], [0, 1], color='navy', lw=2, linestyle='--')\n",
    "    plt.xlabel('False Positive Rate')\n",
    "    plt.ylabel('True Positive Rate')\n",
    "    plt.title(f'ROC Curve ({type(model).__name__})')\n",
    "    plt.legend()\n",
    "    plt.show()\n",
    "\n",
    "    # Поиск порога, максимизирующего F1-score\n",
    "    thresholds = np.arange(0.0, 1.0, 0.01)\n",
    "    f1_scores = [f1_score(y_test, y_test_proba >= t) for t in thresholds]\n",
    "    optimal_threshold = thresholds[np.argmax(f1_scores)]\n",
    "    print(f\"Optimal Threshold: {optimal_threshold:.2f}\")\n",
    "\n",
    "    # Пересчет метрик с учетом оптимального порога\n",
    "    y_train_pred_optimal = (y_train_proba >= optimal_threshold).astype(int)\n",
    "    y_test_pred_optimal = (y_test_proba >= optimal_threshold).astype(int)\n",
    "\n",
    "    train_precision = precision_score(y_train, y_train_pred_optimal)\n",
    "    train_accuracy = accuracy_score(y_train, y_train_pred_optimal)\n",
    "    train_recall = recall_score(y_train, y_train_pred_optimal)\n",
    "    test_precision = precision_score(y_test, y_test_pred_optimal)\n",
    "    test_accuracy = accuracy_score(y_test, y_test_pred_optimal)\n",
    "    test_recall = recall_score(y_test, y_test_pred_optimal)\n",
    "\n",
    "    print(f\"Optimal Training Precision: {train_precision:.2f}\")\n",
    "    print(f\"Optimal Training Аccuracy: {train_accuracy:.2f}\")\n",
    "    print(f\"Optimal Training Recall: {train_recall:.2f}\")\n",
    "    print(f\"Optimal Test Precision: {test_precision:.2f}\")\n",
    "    print(f\"Optimal Test Аccuracy: {test_accuracy:.2f}\")\n",
    "    print(f\"Optimal Test Recall: {test_recall:.2f}\")\n",
    "\n",
    "    metrics = {\n",
    "        'params': [\n",
    "            'Training_Precision', 'Test_Precision',\n",
    "            'Training_Аccuracy','Test_Аccuracy',\n",
    "            'Training_Recall', 'Test_Recall',\n",
    "            'ROC_AUC_Train', 'ROC_AUC_Test'\n",
    "        ],\n",
    "        'values': [\n",
    "            train_precision, test_precision,\n",
    "            train_accuracy, test_accuracy,\n",
    "            train_recall, test_recall,\n",
    "            roc_auc_train, roc_auc_test\n",
    "        ]\n",
    "    }\n",
    "\n",
    "    return metrics"
   ]
  },
  {
   "cell_type": "code",
   "execution_count": 50,
   "metadata": {},
   "outputs": [],
   "source": [
    "from sklearn.model_selection import GridSearchCV\n",
    "\n",
    "def findDecisionTreeClassifier(X_train, y_train):\n",
    "\n",
    "    param_grid = {\n",
    "        'max_depth': range(1, 10, 1),\n",
    "        'min_samples_leaf': range(1, 20, 2),\n",
    "        'min_samples_split': range(2, 20, 2),\n",
    "        'criterion': [\"entropy\", \"gini\"]\n",
    "    }\n",
    "\n",
    "    # Поиск лучших гиперпараметров\n",
    "    grid_search = GridSearchCV(estimator=DecisionTreeClassifier(), param_grid=param_grid, cv=5, scoring='accuracy', n_jobs=-1)\n",
    "    grid_search.fit(X_train, y_train)\n",
    "\n",
    "    # Лучшие гиперпараметры\n",
    "    best_params = grid_search.best_params_\n",
    "    best_score = grid_search.best_score_\n",
    "    print(f\"Лучшие гиперпараметры: {best_params}\")\n",
    "    print(f\"Лучшая точность на валидационной выборке: {best_score}\")\n",
    "    return grid_search"
   ]
  },
  {
   "cell_type": "code",
   "execution_count": 51,
   "metadata": {},
   "outputs": [
    {
     "name": "stderr",
     "output_type": "stream",
     "text": [
      "c:\\Users\\Пользователь\\AppData\\Local\\Programs\\Python\\Python313\\Lib\\site-packages\\sklearn\\model_selection\\_split.py:805: UserWarning: The least populated class in y has only 1 members, which is less than n_splits=5.\n",
      "  warnings.warn(\n"
     ]
    },
    {
     "name": "stdout",
     "output_type": "stream",
     "text": [
      "Лучшие гиперпараметры: {'criterion': 'entropy', 'max_depth': 1, 'min_samples_leaf': 1, 'min_samples_split': 2}\n",
      "Лучшая точность на валидационной выборке: 0.15101271785209608\n"
     ]
    }
   ],
   "source": [
    "grid_search = findDecisionTreeClassifier(X_train, y_train)"
   ]
  },
  {
   "cell_type": "code",
   "execution_count": 53,
   "metadata": {},
   "outputs": [],
   "source": [
    "# Создаем модель с лучшим параметры\n",
    "dt_classifier = grid_search.best_estimator_"
   ]
  },
  {
   "cell_type": "code",
   "execution_count": 55,
   "metadata": {},
   "outputs": [
    {
     "data": {
      "image/png": "[encoded data removed]",
      "text/plain": [
       "<Figure size 2000x1000 with 1 Axes>"
      ]
     },
     "metadata": {},
     "output_type": "display_data"
    }
   ],
   "source": [
    "fig = plt.figure(figsize=(20,10))\n",
    "plot_tree(dt_classifier, filled=True, max_depth=2, feature_names=X.columns)\n",
    "plt.show()"
   ]
  },
  {
   "cell_type": "code",
   "execution_count": 56,
   "metadata": {},
   "outputs": [],
   "source": [
    "from sklearn.preprocessing import StandardScaler\n",
    "\n",
    "Scaler = StandardScaler()\n",
    "\n",
    "X_train = Scaler.fit_transform(X_train)\n",
    "X_test = Scaler.transform(X_test)"
   ]
  },
  {
   "cell_type": "code",
   "execution_count": 57,
   "metadata": {},
   "outputs": [],
   "source": [
    "# словарь для оценок качества моделей\n",
    "regression_error = {}"
   ]
  },
  {
   "cell_type": "code",
   "execution_count": 58,
   "metadata": {},
   "outputs": [],
   "source": [
    "from sklearn.svm import SVR\n",
    "\n",
    "svr = SVR()\n",
    "svr.fit(X_train, y_train)\n",
    "Y_pred_test = svr.predict(X_test)\n",
    "regression_error['SVR'] = {\"RMSE\":root_mean_squared_error(y_test, Y_pred_test),\"MSE\":mean_squared_error(y_test, Y_pred_test), \"MAE\": mean_absolute_error(y_test, Y_pred_test)}"
   ]
  },
  {
   "cell_type": "code",
   "execution_count": 59,
   "metadata": {},
   "outputs": [],
   "source": [
    "from sklearn.neighbors import KNeighborsRegressor\n",
    "\n",
    "knn = KNeighborsRegressor()\n",
    "knn.fit(X_train, y_train)\n",
    "Y_pred_test = knn.predict(X_test)\n",
    "regression_error['KNN'] = {\"RMSE\":root_mean_squared_error(y_test, Y_pred_test),\"MSE\":mean_squared_error(y_test, Y_pred_test), \"MAE\": mean_absolute_error(y_test, Y_pred_test)}"
   ]
  },
  {
   "cell_type": "code",
   "execution_count": 60,
   "metadata": {},
   "outputs": [
    {
     "data": {
      "text/html": [
       "<div>\n",
       "<style scoped>\n",
       "    .dataframe tbody tr th:only-of-type {\n",
       "        vertical-align: middle;\n",
       "    }\n",
       "\n",
       "    .dataframe tbody tr th {\n",
       "        vertical-align: top;\n",
       "    }\n",
       "\n",
       "    .dataframe thead th {\n",
       "        text-align: right;\n",
       "    }\n",
       "</style>\n",
       "<table border=\"1\" class=\"dataframe\">\n",
       "  <thead>\n",
       "    <tr style=\"text-align: right;\">\n",
       "      <th></th>\n",
       "      <th>SVR</th>\n",
       "      <th>KNN</th>\n",
       "    </tr>\n",
       "  </thead>\n",
       "  <tbody>\n",
       "    <tr>\n",
       "      <th>RMSE</th>\n",
       "      <td>1,326,641.23239</td>\n",
       "      <td>690,427.57257</td>\n",
       "    </tr>\n",
       "    <tr>\n",
       "      <th>MSE</th>\n",
       "      <td>1,759,976,959,487.84351</td>\n",
       "      <td>476,690,232,967.33417</td>\n",
       "    </tr>\n",
       "    <tr>\n",
       "      <th>MAE</th>\n",
       "      <td>811,225.17400</td>\n",
       "      <td>402,265.47446</td>\n",
       "    </tr>\n",
       "  </tbody>\n",
       "</table>\n",
       "</div>"
      ],
      "text/plain": [
       "                         SVR                   KNN\n",
       "RMSE         1,326,641.23239         690,427.57257\n",
       "MSE  1,759,976,959,487.84351 476,690,232,967.33417\n",
       "MAE            811,225.17400         402,265.47446"
      ]
     },
     "execution_count": 60,
     "metadata": {},
     "output_type": "execute_result"
    }
   ],
   "source": [
    "pd.options.display.float_format = '{:,.5f}'.format\n",
    "regression_error_df = pd.DataFrame(regression_error)\n",
    "regression_error_df"
   ]
  },
  {
   "cell_type": "code",
   "execution_count": 61,
   "metadata": {},
   "outputs": [
    {
     "name": "stdout",
     "output_type": "stream",
     "text": [
      "Лучшие параметры:  {'C': np.float64(9.192), 'epsilon': np.float64(0.04038615495593496), 'gamma': 1, 'kernel': 'rbf'}\n",
      "Наименьшая ошибка:  1731855665060.8474\n"
     ]
    }
   ],
   "source": [
    "from sklearn.model_selection import RandomizedSearchCV\n",
    "from sklearn.svm import SVR\n",
    "from scipy.stats import uniform\n",
    "\n",
    "# Обучение SVR с ядром и трубкой\n",
    "# Определение сетки гиперпараметров для SVR\n",
    "param_grid = [\n",
    "    {'kernel':['linear'], 'C': np.linspace(0.001, 10, num=100), 'epsilon': uniform(loc=0.01, scale=0.09)},\n",
    "    # мой ноутбук начинает зависать при degree > 3\n",
    "    {'kernel':['poly'], 'degree':[2, 3], 'C':np.linspace(0.001, 10, num=100), 'epsilon': uniform(loc=0.01, scale=0.09)},\n",
    "    {'kernel':['sigmoid'], 'C':np.linspace(0.001, 10, num=100), 'epsilon': uniform(loc=0.01, scale=0.09)},\n",
    "    {'kernel': ['rbf'], 'gamma': ['scale', 'auto', 0.1, 0.5, 1, 5, 10], 'C':np.linspace(0.001, 10, num=100), 'epsilon': uniform(loc=0.01, scale=0.09)}\n",
    "]\n",
    "\n",
    "# Создание модели SVR\n",
    "svr = SVR()\n",
    "\n",
    "# Настройка RandomizedSearchCV\n",
    "grid_search = RandomizedSearchCV(estimator=svr, param_distributions=param_grid, scoring='neg_mean_squared_error', cv=5, n_jobs=-1, n_iter=20)\n",
    "\n",
    "# Обучение моделей с подбором гиперпараметров\n",
    "grid_search.fit(X_train, y_train)\n",
    "\n",
    "# Вывод лучших параметров и наименьшей ошибки\n",
    "print(\"Лучшие параметры: \", grid_search.best_params_)\n",
    "print(\"Наименьшая ошибка: \", -grid_search.best_score_)"
   ]
  },
  {
   "cell_type": "code",
   "execution_count": 62,
   "metadata": {},
   "outputs": [],
   "source": [
    "# Обучение модели с лучшими параметрами\n",
    "best_svr_model = grid_search.best_estimator_ # лучшая модель"
   ]
  },
  {
   "cell_type": "code",
   "execution_count": 63,
   "metadata": {},
   "outputs": [],
   "source": [
    "best_svr_model.fit(X_train, y_train)\n",
    "Y_pred_test = best_svr_model.predict(X_test)\n",
    "regression_error['SVR with best params'] = {\"RMSE\":root_mean_squared_error(y_test, Y_pred_test),\"MSE\":mean_squared_error(y_test, Y_pred_test), \"MAE\": mean_absolute_error(y_test, Y_pred_test)}"
   ]
  },
  {
   "cell_type": "code",
   "execution_count": 64,
   "metadata": {},
   "outputs": [
    {
     "data": {
      "text/html": [
       "<div>\n",
       "<style scoped>\n",
       "    .dataframe tbody tr th:only-of-type {\n",
       "        vertical-align: middle;\n",
       "    }\n",
       "\n",
       "    .dataframe tbody tr th {\n",
       "        vertical-align: top;\n",
       "    }\n",
       "\n",
       "    .dataframe thead th {\n",
       "        text-align: right;\n",
       "    }\n",
       "</style>\n",
       "<table border=\"1\" class=\"dataframe\">\n",
       "  <thead>\n",
       "    <tr style=\"text-align: right;\">\n",
       "      <th></th>\n",
       "      <th>SVR</th>\n",
       "      <th>KNN</th>\n",
       "      <th>SVR with best params</th>\n",
       "    </tr>\n",
       "  </thead>\n",
       "  <tbody>\n",
       "    <tr>\n",
       "      <th>RMSE</th>\n",
       "      <td>1,326,641.23239</td>\n",
       "      <td>690,427.57257</td>\n",
       "      <td>1,325,522.59494</td>\n",
       "    </tr>\n",
       "    <tr>\n",
       "      <th>MSE</th>\n",
       "      <td>1,759,976,959,487.84351</td>\n",
       "      <td>476,690,232,967.33417</td>\n",
       "      <td>1,757,010,149,708.08765</td>\n",
       "    </tr>\n",
       "    <tr>\n",
       "      <th>MAE</th>\n",
       "      <td>811,225.17400</td>\n",
       "      <td>402,265.47446</td>\n",
       "      <td>809,547.02189</td>\n",
       "    </tr>\n",
       "  </tbody>\n",
       "</table>\n",
       "</div>"
      ],
      "text/plain": [
       "                         SVR                   KNN    SVR with best params\n",
       "RMSE         1,326,641.23239         690,427.57257         1,325,522.59494\n",
       "MSE  1,759,976,959,487.84351 476,690,232,967.33417 1,757,010,149,708.08765\n",
       "MAE            811,225.17400         402,265.47446           809,547.02189"
      ]
     },
     "execution_count": 64,
     "metadata": {},
     "output_type": "execute_result"
    }
   ],
   "source": [
    "regression_error_df = pd.DataFrame(regression_error)\n",
    "regression_error_df"
   ]
  }
 ],
 "metadata": {
  "kernelspec": {
   "display_name": "Python 3",
   "language": "python",
   "name": "python3"
  },
  "language_info": {
   "codemirror_mode": {
    "name": "ipython",
    "version": 3
   },
   "file_extension": ".py",
   "mimetype": "text/x-python",
   "name": "python",
   "nbconvert_exporter": "python",
   "pygments_lexer": "ipython3",
   "version": "3.13.2"
  }
 },
 "nbformat": 4,
 "nbformat_minor": 2
}
