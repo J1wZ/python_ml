{
 "cells": [
  {
   "cell_type": "markdown",
   "metadata": {},
   "source": [
    "# Задание 1.3\n",
    "Напишите запрос,чтобы перечислить всех покупателей выбранного магазина с указанием их полных имен, электронной почты и номера телефона.\n",
    "\n",
    "(Представлены два способа решения)"
   ]
  },
  {
   "cell_type": "code",
   "execution_count": 1,
   "metadata": {},
   "outputs": [],
   "source": [
    "from pyspark.sql import SparkSession\n",
    "\n",
    "spark = SparkSession.builder.master(\"local\").getOrCreate()\n"
   ]
  },
  {
   "cell_type": "markdown",
   "metadata": {},
   "source": [
    "API"
   ]
  },
  {
   "cell_type": "code",
   "execution_count": 14,
   "metadata": {},
   "outputs": [
    {
     "name": "stdout",
     "output_type": "stream",
     "text": [
      "+---------------+--------------------+--------------+\n",
      "|       customer|               email|         phone|\n",
      "+---------------+--------------------+--------------+\n",
      "| Ivelisse Nixon|ivelisse.nixon@ao...|(281) 941-4933|\n",
      "|   Omer Estrada|omer.estrada@gmai...|          NULL|\n",
      "|  Nestor Haynes|nestor.haynes@msn...|(281) 969-4579|\n",
      "|     Dagny Owen|dagny.owen@hotmai...|          NULL|\n",
      "| Mozelle Carter|mozelle.carter@ao...|(281) 489-9656|\n",
      "|  Andria Rivers|andria.rivers@aol...|          NULL|\n",
      "| Minerva Decker|minerva.decker@ya...|(281) 271-6390|\n",
      "|Dorthey Jackson|dorthey.jackson@m...|(281) 926-8010|\n",
      "|Pinkie Kirkland|pinkie.kirkland@y...|          NULL|\n",
      "|Shaunda Barnett|shaunda.barnett@g...|          NULL|\n",
      "|     Launa Hull|launa.hull@yahoo.com|          NULL|\n",
      "|  Aleta Shepard|aleta.shepard@aol...|          NULL|\n",
      "|     Gena Owens|gena.owens@gmail.com|          NULL|\n",
      "| Thalia Dillard|thalia.dillard@ya...|          NULL|\n",
      "|   Liliana Kerr|liliana.kerr@yaho...|          NULL|\n",
      "|    Londa Gould| londa.gould@aol.com|(361) 206-5550|\n",
      "|       Bao Wade|  bao.wade@gmail.com|          NULL|\n",
      "|Christia Carson|christia.carson@g...|          NULL|\n",
      "|       Myrl Gay|myrl.gay@hotmail.com|          NULL|\n",
      "|   Janna Hayden|janna.hayden@msn.com|          NULL|\n",
      "+---------------+--------------------+--------------+\n",
      "only showing top 20 rows\n",
      "\n"
     ]
    }
   ],
   "source": [
    "from pyspark.sql.functions import concat_ws\n",
    "\n",
    "df_customers = spark.read.csv(\"CVS\\\\customers.csv\", inferSchema=True, header=True, sep=\",\")\n",
    "df_orders = spark.read.csv(\"CVS\\\\orders.csv\", inferSchema=True, header=True, sep=\",\")\n",
    "df_stores = spark.read.csv(\"CVS\\\\stores.csv\", inferSchema=True, header=True, sep=\",\")\n",
    "\n",
    "df_res = df_customers.join(df_orders, \n",
    "                           df_orders[\"customer_id\"] == df_customers[\"customer_id\"])\n",
    "\n",
    "df_res = df_res.join(df_stores, \n",
    "                     df_stores[\"store_id\"] == df_orders[\"store_id\"]\n",
    "                     ).where(df_stores[\"store_name\"] == 'Rowlett Bikes')\n",
    "\n",
    "df_res = df_res.select(\n",
    "    concat_ws(\" \",df_customers[\"first_name\"], \n",
    "              df_customers[\"last_name\"]).alias(\"customer\"),\n",
    "              df_customers[\"email\"], df_customers[\"phone\"])\n",
    "\n",
    "df_res.dropDuplicates().show()"
   ]
  },
  {
   "cell_type": "markdown",
   "metadata": {},
   "source": [
    "spark.sql"
   ]
  },
  {
   "cell_type": "code",
   "execution_count": 16,
   "metadata": {},
   "outputs": [
    {
     "name": "stdout",
     "output_type": "stream",
     "text": [
      "+---------------+--------------------+--------------+\n",
      "|       customer|               email|         phone|\n",
      "+---------------+--------------------+--------------+\n",
      "| Ivelisse Nixon|ivelisse.nixon@ao...|(281) 941-4933|\n",
      "|   Omer Estrada|omer.estrada@gmai...|          NULL|\n",
      "|  Nestor Haynes|nestor.haynes@msn...|(281) 969-4579|\n",
      "|     Dagny Owen|dagny.owen@hotmai...|          NULL|\n",
      "| Mozelle Carter|mozelle.carter@ao...|(281) 489-9656|\n",
      "|  Andria Rivers|andria.rivers@aol...|          NULL|\n",
      "| Minerva Decker|minerva.decker@ya...|(281) 271-6390|\n",
      "|Dorthey Jackson|dorthey.jackson@m...|(281) 926-8010|\n",
      "|Pinkie Kirkland|pinkie.kirkland@y...|          NULL|\n",
      "|Shaunda Barnett|shaunda.barnett@g...|          NULL|\n",
      "|     Launa Hull|launa.hull@yahoo.com|          NULL|\n",
      "|  Aleta Shepard|aleta.shepard@aol...|          NULL|\n",
      "|     Gena Owens|gena.owens@gmail.com|          NULL|\n",
      "| Thalia Dillard|thalia.dillard@ya...|          NULL|\n",
      "|   Liliana Kerr|liliana.kerr@yaho...|          NULL|\n",
      "|    Londa Gould| londa.gould@aol.com|(361) 206-5550|\n",
      "|       Bao Wade|  bao.wade@gmail.com|          NULL|\n",
      "|Christia Carson|christia.carson@g...|          NULL|\n",
      "|       Myrl Gay|myrl.gay@hotmail.com|          NULL|\n",
      "|   Janna Hayden|janna.hayden@msn.com|          NULL|\n",
      "+---------------+--------------------+--------------+\n",
      "only showing top 20 rows\n",
      "\n"
     ]
    }
   ],
   "source": [
    "df_customers.createOrReplaceTempView(\"customers\")\n",
    "df_stores.createOrReplaceTempView(\"stores\")\n",
    "df_orders.createOrReplaceTempView(\"orders\")\n",
    "\n",
    "spark.sql(\"\"\"\n",
    "          SELECT CONCAT_WS(' ',customers.first_name, customers.last_name) as customer, customers.email, customers.phone\n",
    "            FROM customers\n",
    "            JOIN orders ON orders.customer_id = customers.customer_id\n",
    "            JOIN stores ON stores.store_id = orders.store_id\n",
    "            WHERE stores.store_name = 'Rowlett Bikes'\n",
    "          \"\"\").dropDuplicates().show()"
   ]
  }
 ],
 "metadata": {
  "kernelspec": {
   "display_name": "Python 3",
   "language": "python",
   "name": "python3"
  },
  "language_info": {
   "codemirror_mode": {
    "name": "ipython",
    "version": 3
   },
   "file_extension": ".py",
   "mimetype": "text/x-python",
   "name": "python",
   "nbconvert_exporter": "python",
   "pygments_lexer": "ipython3",
   "version": "3.13.0"
  }
 },
 "nbformat": 4,
 "nbformat_minor": 2
}
