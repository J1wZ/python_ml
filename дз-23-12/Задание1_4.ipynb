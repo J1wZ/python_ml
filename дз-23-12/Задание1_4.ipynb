{
 "cells": [
  {
   "cell_type": "markdown",
   "metadata": {},
   "source": [
    "# Задание 1.4\n",
    "Напишите запрос для подсчета количества продуктов в каждой категории."
   ]
  },
  {
   "cell_type": "code",
   "execution_count": 1,
   "metadata": {},
   "outputs": [
    {
     "name": "stdout",
     "output_type": "stream",
     "text": [
      "Успешно подключено.\n"
     ]
    }
   ],
   "source": [
    "from sqlalchemy import create_engine\n",
    " \n",
    "user = 'root'\n",
    "password = 'NoMorFort19#'\n",
    "host = '127.0.0.1'\n",
    "port = 3306\n",
    "database = 'bikestore'\n",
    "\n",
    "def get_connection():\n",
    "    return create_engine(\n",
    "        url=\"mysql+pymysql://{0}:{1}@{2}:{3}/{4}\".format(user, password, host, port, database)\n",
    "    )\n",
    "\n",
    "\n",
    "if __name__ == '__main__':\n",
    "    try:\n",
    "        engine = get_connection()\n",
    "        print(f\"Успешно подключено.\")\n",
    "    except Exception as ex:\n",
    "        print(\"Не получилось подключиться: \\n\", ex)"
   ]
  },
  {
   "cell_type": "code",
   "execution_count": 2,
   "metadata": {},
   "outputs": [
    {
     "name": "stdout",
     "output_type": "stream",
     "text": [
      "('Children Bicycles', 59)\n",
      "('Comfort Bicycles', 30)\n",
      "('Cruisers Bicycles', 78)\n",
      "('Cyclocross Bicycles', 10)\n",
      "('Electric Bikes', 24)\n",
      "('Mountain Bikes', 60)\n",
      "('Road Bikes', 60)\n"
     ]
    }
   ],
   "source": [
    "from sqlalchemy import text\n",
    "\n",
    "with engine.connect() as connection:\n",
    "    query=\"\"\"\n",
    "    SELECT categories.category_name, COUNT(products.product_id) as count\n",
    "    FROM products\n",
    "    JOIN categories ON categories.category_id = products.category_id\n",
    "    GROUP BY categories.category_name;\"\"\"\n",
    "    my_data=list(connection.execute(text(query)))\n",
    "\n",
    "for el in my_data:\n",
    "    print(el)"
   ]
  }
 ],
 "metadata": {
  "kernelspec": {
   "display_name": "Python 3",
   "language": "python",
   "name": "python3"
  },
  "language_info": {
   "codemirror_mode": {
    "name": "ipython",
    "version": 3
   },
   "file_extension": ".py",
   "mimetype": "text/x-python",
   "name": "python",
   "nbconvert_exporter": "python",
   "pygments_lexer": "ipython3",
   "version": "3.13.0"
  }
 },
 "nbformat": 4,
 "nbformat_minor": 2
}
