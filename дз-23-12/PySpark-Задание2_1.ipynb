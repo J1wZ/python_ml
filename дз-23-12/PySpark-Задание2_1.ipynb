{
 "cells": [
  {
   "cell_type": "markdown",
   "metadata": {},
   "source": [
    "# Задание 2.1\n",
    "Напишите запрос для расчета общего объема продаж по каждому продукту (с учетом количества продукта, его цены по прейскуранту и скидки).\n",
    "\n",
    "(Представлены два способа решения)"
   ]
  },
  {
   "cell_type": "code",
   "execution_count": 1,
   "metadata": {},
   "outputs": [],
   "source": [
    "from pyspark.sql import SparkSession\n",
    "\n",
    "spark = SparkSession.builder.master(\"local\").getOrCreate()\n"
   ]
  },
  {
   "cell_type": "markdown",
   "metadata": {},
   "source": [
    "API"
   ]
  },
  {
   "cell_type": "code",
   "execution_count": null,
   "metadata": {},
   "outputs": [
    {
     "name": "stdout",
     "output_type": "stream",
     "text": [
      "+--------------------+------------------+\n",
      "|        product_name|       Total_sales|\n",
      "+--------------------+------------------+\n",
      "|Electra Straight ...|          362.6907|\n",
      "|Electra Heartchya...|         1929.5397|\n",
      "|Trek Precaliber 2...|255.99200000000002|\n",
      "|Electra Townie Co...|1646.9816999999998|\n",
      "|Electra Townie Ba...|6497.9277999999995|\n",
      "|Electra Tiger Sha...|1804.7435999999998|\n",
      "|Trek Stache Carbo...|4149.1548999999995|\n",
      "|Heller Bloodhound...|           8992.54|\n",
      "|Trek Precaliber 2...| 640.0826999999999|\n",
      "|Electra Townie Or...|1574.9650000000001|\n",
      "|Electra Townie Or...|          4963.927|\n",
      "|Electra Amsterdam...|3035.9746999999998|\n",
      "|Electra Townie Or...|29164.204799999996|\n",
      "|Trek Slash 8 27.5...|       555558.6111|\n",
      "|Trek Boy's Kickst...|         3236.7842|\n",
      "|Electra Townie Or...|2069.9539999999997|\n",
      "|Sun Bicycles Spid...|19491.966000000004|\n",
      "|Trek Remedy 7 27....|14069.953099999999|\n",
      "|Trek Domane ALR 4...| 9749.437100000001|\n",
      "|Trek Farley Carbo...|         7239.9276|\n",
      "+--------------------+------------------+\n",
      "only showing top 20 rows\n",
      "\n"
     ]
    }
   ],
   "source": [
    "from pyspark.sql import functions as F\n",
    "\n",
    "df_products = spark.read.csv(\"CVS\\\\products.csv\", inferSchema=True, header=True, sep=\",\")\n",
    "df_order_items = spark.read.csv(\"CVS\\\\order_items.csv\", inferSchema=True, header=True, sep=\",\")\n",
    "\n",
    "df_res = df_products.join(df_order_items, \n",
    "                           df_order_items[\"product_id\"] == df_products[\"product_id\"], \"inner\")\n",
    "\n",
    "\n",
    "df_res = df_res.groupBy(\"product_name\"\n",
    "                        ).agg(F.sum\n",
    "                        (df_order_items[\"quantity\"] * \n",
    "                        (df_order_items[\"list_price\"] * \n",
    "                         (1-df_order_items[\"discount\"]))\n",
    "                         ).alias(\"Total_sales\"))\n",
    "\n",
    "df_res.show()"
   ]
  },
  {
   "cell_type": "markdown",
   "metadata": {},
   "source": [
    "spark.sql"
   ]
  },
  {
   "cell_type": "code",
   "execution_count": 5,
   "metadata": {},
   "outputs": [
    {
     "name": "stdout",
     "output_type": "stream",
     "text": [
      "+--------------------+------------------+\n",
      "|        product_name|       total_sales|\n",
      "+--------------------+------------------+\n",
      "|Electra Straight ...|          362.6907|\n",
      "|Electra Heartchya...|         1929.5397|\n",
      "|Trek Precaliber 2...|255.99200000000002|\n",
      "|Electra Townie Co...|1646.9816999999998|\n",
      "|Electra Townie Ba...|6497.9277999999995|\n",
      "|Electra Tiger Sha...|1804.7435999999998|\n",
      "|Trek Stache Carbo...|4149.1548999999995|\n",
      "|Heller Bloodhound...|           8992.54|\n",
      "|Trek Precaliber 2...| 640.0826999999999|\n",
      "|Electra Townie Or...|1574.9650000000001|\n",
      "|Electra Townie Or...|          4963.927|\n",
      "|Electra Amsterdam...|3035.9746999999998|\n",
      "|Electra Townie Or...|29164.204799999996|\n",
      "|Trek Slash 8 27.5...|       555558.6111|\n",
      "|Trek Boy's Kickst...|         3236.7842|\n",
      "|Electra Townie Or...|2069.9539999999997|\n",
      "|Sun Bicycles Spid...|19491.966000000004|\n",
      "|Trek Remedy 7 27....|14069.953099999999|\n",
      "|Trek Domane ALR 4...| 9749.437100000001|\n",
      "|Trek Farley Carbo...|         7239.9276|\n",
      "+--------------------+------------------+\n",
      "only showing top 20 rows\n",
      "\n"
     ]
    }
   ],
   "source": [
    "df_products.createOrReplaceTempView(\"products\")\n",
    "df_order_items.createOrReplaceTempView(\"order_items\")\n",
    "\n",
    "spark.sql(\"\"\"\n",
    "            Select  products.product_name , (SUM(order_items.quantity * (order_items.list_price * (1-order_items.discount)))) as total_sales\n",
    "            FROM products\n",
    "            Inner Join order_items on order_items.product_id = products.product_id\n",
    "            Group by products.product_name\n",
    "          \"\"\").show()"
   ]
  }
 ],
 "metadata": {
  "kernelspec": {
   "display_name": "Python 3",
   "language": "python",
   "name": "python3"
  },
  "language_info": {
   "codemirror_mode": {
    "name": "ipython",
    "version": 3
   },
   "file_extension": ".py",
   "mimetype": "text/x-python",
   "name": "python",
   "nbconvert_exporter": "python",
   "pygments_lexer": "ipython3",
   "version": "3.13.0"
  }
 },
 "nbformat": 4,
 "nbformat_minor": 2
}
