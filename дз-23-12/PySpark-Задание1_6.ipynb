{
 "cells": [
  {
   "cell_type": "markdown",
   "metadata": {},
   "source": [
    "# Задание 1.5\n",
    "Напишите запрос, чтобы указать общее количество заказов для каждого клиента.\n",
    "\n",
    "(Представлены два способа решения)"
   ]
  },
  {
   "cell_type": "code",
   "execution_count": 1,
   "metadata": {},
   "outputs": [],
   "source": [
    "from pyspark.sql import SparkSession\n",
    "\n",
    "spark = SparkSession.builder.master(\"local\").getOrCreate()\n"
   ]
  },
  {
   "cell_type": "markdown",
   "metadata": {},
   "source": [
    "API"
   ]
  },
  {
   "cell_type": "code",
   "execution_count": 2,
   "metadata": {},
   "outputs": [
    {
     "name": "stdout",
     "output_type": "stream",
     "text": [
      "+----------------+-----+\n",
      "|        customer|count|\n",
      "+----------------+-----+\n",
      "|  Mary Singleton|    1|\n",
      "|   Romelia Myers|    1|\n",
      "| Pearlie Cochran|    1|\n",
      "|      Heide Reed|    1|\n",
      "|     Olevia Noel|    1|\n",
      "| Toshia Cardenas|    1|\n",
      "|  Lurlene Cotton|    1|\n",
      "|     Londa Gould|    1|\n",
      "|   Felice Guzman|    2|\n",
      "| Valery Saunders|    1|\n",
      "| Valeri Marshall|    1|\n",
      "| Oliva Blackwell|    1|\n",
      "|      Ciera Koch|    1|\n",
      "|     Diana Reyes|    1|\n",
      "|    Rodolfo Buck|    1|\n",
      "|Donovan Cantrell|    1|\n",
      "|     Mark Benton|    1|\n",
      "|    Alica Hunter|    2|\n",
      "|Hortencia O'neil|    1|\n",
      "|  Chere Mcfadden|    1|\n",
      "+----------------+-----+\n",
      "only showing top 20 rows\n",
      "\n"
     ]
    }
   ],
   "source": [
    "from pyspark.sql.functions import concat_ws\n",
    "\n",
    "df_customers = spark.read.csv(\"CVS\\\\customers.csv\", inferSchema=True, header=True, sep=\",\")\n",
    "df_orders = spark.read.csv(\"CVS\\\\orders.csv\", inferSchema=True, header=True, sep=\",\")\n",
    "\n",
    "df_res = df_customers.join(df_orders, \n",
    "                           df_orders[\"customer_id\"] == df_customers[\"customer_id\"], \"inner\")\n",
    "\n",
    "df_res = df_res.select(\n",
    "    concat_ws(\" \",df_customers[\"first_name\"], \n",
    "              df_customers[\"last_name\"]).alias(\"customer\"))\n",
    "df_res = df_res.groupBy(\"customer\").count()\n",
    "\n",
    "df_res.show()"
   ]
  },
  {
   "cell_type": "markdown",
   "metadata": {},
   "source": [
    "spark.sql"
   ]
  },
  {
   "cell_type": "code",
   "execution_count": 3,
   "metadata": {},
   "outputs": [
    {
     "name": "stdout",
     "output_type": "stream",
     "text": [
      "+----------------+-----+\n",
      "|        customer|count|\n",
      "+----------------+-----+\n",
      "|  Mary Singleton|    1|\n",
      "|   Romelia Myers|    1|\n",
      "| Pearlie Cochran|    1|\n",
      "|      Heide Reed|    1|\n",
      "|     Olevia Noel|    1|\n",
      "| Toshia Cardenas|    1|\n",
      "|  Lurlene Cotton|    1|\n",
      "|     Londa Gould|    1|\n",
      "|   Felice Guzman|    2|\n",
      "| Valery Saunders|    1|\n",
      "| Valeri Marshall|    1|\n",
      "| Oliva Blackwell|    1|\n",
      "|      Ciera Koch|    1|\n",
      "|     Diana Reyes|    1|\n",
      "|    Rodolfo Buck|    1|\n",
      "|Donovan Cantrell|    1|\n",
      "|     Mark Benton|    1|\n",
      "|    Alica Hunter|    2|\n",
      "|Hortencia O'neil|    1|\n",
      "|  Chere Mcfadden|    1|\n",
      "+----------------+-----+\n",
      "only showing top 20 rows\n",
      "\n"
     ]
    }
   ],
   "source": [
    "df_customers = spark.read.csv(\"CVS\\\\customers.csv\", inferSchema=True, header=True, sep=\",\")\n",
    "df_orders = spark.read.csv(\"CVS\\\\orders.csv\", inferSchema=True, header=True, sep=\",\")\n",
    "\n",
    "\n",
    "df_customers.createOrReplaceTempView(\"customers\")\n",
    "df_orders.createOrReplaceTempView(\"orders\")\n",
    "\n",
    "spark.sql(\"\"\"\n",
    "            SELECT CONCAT_WS(' ',customers.first_name, customers.last_name) as customer, COUNT(orders.order_id) as count\n",
    "            FROM customers\n",
    "            INNER JOIN orders ON orders.customer_id = customers.customer_id\n",
    "            GROUP BY customer;\n",
    "          \"\"\").show()"
   ]
  }
 ],
 "metadata": {
  "kernelspec": {
   "display_name": "Python 3",
   "language": "python",
   "name": "python3"
  },
  "language_info": {
   "codemirror_mode": {
    "name": "ipython",
    "version": 3
   },
   "file_extension": ".py",
   "mimetype": "text/x-python",
   "name": "python",
   "nbconvert_exporter": "python",
   "pygments_lexer": "ipython3",
   "version": "3.13.0"
  }
 },
 "nbformat": 4,
 "nbformat_minor": 2
}
