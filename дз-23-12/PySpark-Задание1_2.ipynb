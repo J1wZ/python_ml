{
 "cells": [
  {
   "cell_type": "markdown",
   "metadata": {},
   "source": [
    "# Задание 1.2\n",
    "Напишите запрос, чтобы найти всех активных сотрудников и наименования магазинов, в которых они работают.\n",
    "\n",
    "(Представлены два способа решения)"
   ]
  },
  {
   "cell_type": "code",
   "execution_count": 5,
   "metadata": {},
   "outputs": [],
   "source": [
    "from pyspark.sql import SparkSession\n",
    "\n",
    "spark = SparkSession.builder.master(\"local\").getOrCreate()\n"
   ]
  },
  {
   "cell_type": "markdown",
   "metadata": {},
   "source": [
    "API"
   ]
  },
  {
   "cell_type": "code",
   "execution_count": 6,
   "metadata": {},
   "outputs": [
    {
     "name": "stdout",
     "output_type": "stream",
     "text": [
      "+------------------+----------------+\n",
      "|             staff|      store_name|\n",
      "+------------------+----------------+\n",
      "|Bernardine Houston|   Rowlett Bikes|\n",
      "|   Fabiola Jackson|Santa Cruz Bikes|\n",
      "|     Genna Serrano|Santa Cruz Bikes|\n",
      "|    Jannette David|   Baldwin Bikes|\n",
      "|       Kali Vargas|   Rowlett Bikes|\n",
      "|     Layla Terrell|   Rowlett Bikes|\n",
      "|   Marcelene Boyer|   Baldwin Bikes|\n",
      "|   Mireya Copeland|Santa Cruz Bikes|\n",
      "|     Venita Daniel|   Baldwin Bikes|\n",
      "|    Virgie Wiggins|Santa Cruz Bikes|\n",
      "+------------------+----------------+\n",
      "\n"
     ]
    }
   ],
   "source": [
    "from pyspark.sql.functions import concat_ws\n",
    "\n",
    "df_staffs = spark.read.csv(\"CVS\\\\staffs.csv\", inferSchema=True, header=True, sep=\",\")\n",
    "\n",
    "df_stores = spark.read.csv(\"CVS\\\\stores.csv\", inferSchema=True, header=True, sep=\",\")\n",
    "\n",
    "df_res = df_staffs.join(df_stores, \n",
    "                        df_stores[\"store_id\"] == df_staffs[\"store_id\"]\n",
    "                        ).where(df_staffs[\"active\"] == 1)\n",
    "\n",
    "df_res = df_res.select(concat_ws(\" \",df_staffs[\"first_name\"], \n",
    "                                 df_staffs[\"last_name\"]).alias(\"staff\"),\n",
    "                                 \"store_name\")\n",
    "\n",
    "df_res.orderBy(['staff'], ascending = [True]).show()"
   ]
  },
  {
   "cell_type": "markdown",
   "metadata": {},
   "source": [
    "spark.sql"
   ]
  },
  {
   "cell_type": "code",
   "execution_count": 7,
   "metadata": {},
   "outputs": [
    {
     "name": "stdout",
     "output_type": "stream",
     "text": [
      "+------------------+----------------+\n",
      "|             staff|      store_name|\n",
      "+------------------+----------------+\n",
      "|Bernardine Houston|   Rowlett Bikes|\n",
      "|   Fabiola Jackson|Santa Cruz Bikes|\n",
      "|     Genna Serrano|Santa Cruz Bikes|\n",
      "|    Jannette David|   Baldwin Bikes|\n",
      "|       Kali Vargas|   Rowlett Bikes|\n",
      "|     Layla Terrell|   Rowlett Bikes|\n",
      "|   Marcelene Boyer|   Baldwin Bikes|\n",
      "|   Mireya Copeland|Santa Cruz Bikes|\n",
      "|     Venita Daniel|   Baldwin Bikes|\n",
      "|    Virgie Wiggins|Santa Cruz Bikes|\n",
      "+------------------+----------------+\n",
      "\n"
     ]
    }
   ],
   "source": [
    "df_staffs.createOrReplaceTempView(\"staffs\")\n",
    "df_stores.createOrReplaceTempView(\"stores\")\n",
    "\n",
    "spark.sql(\"\"\"\n",
    "          SELECT CONCAT_WS(' ',staffs.first_name, staffs.last_name) as staff, stores.store_name\n",
    "          FROM staffs\n",
    "          JOIN stores ON stores.store_id = staffs.store_id\n",
    "          WHERE staffs.active = 1\n",
    "          order by staff\n",
    "          \"\"\").show()"
   ]
  }
 ],
 "metadata": {
  "kernelspec": {
   "display_name": "Python 3",
   "language": "python",
   "name": "python3"
  },
  "language_info": {
   "codemirror_mode": {
    "name": "ipython",
    "version": 3
   },
   "file_extension": ".py",
   "mimetype": "text/x-python",
   "name": "python",
   "nbconvert_exporter": "python",
   "pygments_lexer": "ipython3",
   "version": "3.13.0"
  }
 },
 "nbformat": 4,
 "nbformat_minor": 2
}
