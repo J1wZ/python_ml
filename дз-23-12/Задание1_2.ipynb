{
 "cells": [
  {
   "cell_type": "markdown",
   "metadata": {},
   "source": [
    "# Задание 1.2\n",
    "Напишите запрос, чтобы найти всех активных сотрудников и наименования магазинов, в которых они работают."
   ]
  },
  {
   "cell_type": "code",
   "execution_count": 1,
   "metadata": {},
   "outputs": [
    {
     "name": "stdout",
     "output_type": "stream",
     "text": [
      "Успешно подключено.\n"
     ]
    }
   ],
   "source": [
    "from sqlalchemy import create_engine\n",
    " \n",
    "user = 'root'\n",
    "password = 'NoMorFort19#'\n",
    "host = '127.0.0.1'\n",
    "port = 3306\n",
    "database = 'bikestore'\n",
    "\n",
    "def get_connection():\n",
    "    return create_engine(\n",
    "        url=\"mysql+pymysql://{0}:{1}@{2}:{3}/{4}\".format(user, password, host, port, database)\n",
    "    )\n",
    "\n",
    "\n",
    "if __name__ == '__main__':\n",
    "    try:\n",
    "        engine = get_connection()\n",
    "        print(f\"Успешно подключено.\")\n",
    "    except Exception as ex:\n",
    "        print(\"Не получилось подключиться: \\n\", ex)"
   ]
  },
  {
   "cell_type": "code",
   "execution_count": 2,
   "metadata": {},
   "outputs": [
    {
     "name": "stdout",
     "output_type": "stream",
     "text": [
      "('Bernardine Houston', 'Rowlett Bikes')\n",
      "('Fabiola Jackson', 'Santa Cruz Bikes')\n",
      "('Genna Serrano', 'Santa Cruz Bikes')\n",
      "('Jannette David', 'Baldwin Bikes')\n",
      "('Kali Vargas', 'Rowlett Bikes')\n",
      "('Layla Terrell', 'Rowlett Bikes')\n",
      "('Marcelene Boyer', 'Baldwin Bikes')\n",
      "('Mireya Copeland', 'Santa Cruz Bikes')\n",
      "('Venita Daniel', 'Baldwin Bikes')\n",
      "('Virgie Wiggins', 'Santa Cruz Bikes')\n"
     ]
    }
   ],
   "source": [
    "from sqlalchemy import text\n",
    "\n",
    "with engine.connect() as connection:\n",
    "    query=\"\"\"\n",
    "    SELECT CONCAT_WS(' ',staffs.first_name, staffs.last_name) as staff, stores.store_name\n",
    "    FROM staffs\n",
    "    JOIN stores ON stores.store_id = staffs.store_id\n",
    "    WHERE staffs.active = 1\n",
    "    order by staff\"\"\"\n",
    "    my_data=list(connection.execute(text(query)))\n",
    "\n",
    "for el in my_data:\n",
    "    print(el)"
   ]
  }
 ],
 "metadata": {
  "kernelspec": {
   "display_name": "Python 3",
   "language": "python",
   "name": "python3"
  },
  "language_info": {
   "codemirror_mode": {
    "name": "ipython",
    "version": 3
   },
   "file_extension": ".py",
   "mimetype": "text/x-python",
   "name": "python",
   "nbconvert_exporter": "python",
   "pygments_lexer": "ipython3",
   "version": "3.13.0"
  }
 },
 "nbformat": 4,
 "nbformat_minor": 2
}
