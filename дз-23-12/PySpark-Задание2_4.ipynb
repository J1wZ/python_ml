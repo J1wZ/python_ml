{
 "cells": [
  {
   "cell_type": "markdown",
   "metadata": {},
   "source": [
    "# Задание 2.4\n",
    "Напишите запрос, чтобы найти топ 5 клиентов, которые потратили больше всего денег.\n",
    "\n",
    "(Представлены два способа решения)"
   ]
  },
  {
   "cell_type": "code",
   "execution_count": 1,
   "metadata": {},
   "outputs": [],
   "source": [
    "from pyspark.sql import SparkSession\n",
    "\n",
    "spark = SparkSession.builder.master(\"local\").getOrCreate()\n"
   ]
  },
  {
   "cell_type": "markdown",
   "metadata": {},
   "source": [
    "API"
   ]
  },
  {
   "cell_type": "code",
   "execution_count": 4,
   "metadata": {},
   "outputs": [
    {
     "name": "stdout",
     "output_type": "stream",
     "text": [
      "+--------------+------------------+\n",
      "|      Customer| Total_Money_Spent|\n",
      "+--------------+------------------+\n",
      "|Sharyn Hopkins|        34807.9392|\n",
      "|Pamelia Newman|        33634.2604|\n",
      "|   Abby Gamble|        32803.0062|\n",
      "|  Lyndsey Bean|32675.072499999995|\n",
      "|Emmitt Sanchez|31925.885699999995|\n",
      "+--------------+------------------+\n",
      "only showing top 5 rows\n",
      "\n"
     ]
    }
   ],
   "source": [
    "from pyspark.sql import functions as F\n",
    "from pyspark.sql.functions import concat_ws\n",
    "\n",
    "df_orders = spark.read.csv(\"CVS\\\\orders.csv\", inferSchema=True, header=True, sep=\",\")\n",
    "df_order_items = spark.read.csv(\"CVS\\\\order_items.csv\", inferSchema=True, header=True, sep=\",\")\n",
    "df_customers = spark.read.csv(\"CVS\\\\customers.csv\", inferSchema=True, header=True, sep=\",\")\n",
    "\n",
    "df_res = df_customers.join(df_orders, \n",
    "                           df_orders[\"customer_id\"] == df_customers[\"customer_id\"], \"inner\")\n",
    "\n",
    "df_res = df_res.join(df_order_items, \n",
    "                           df_order_items[\"order_id\"] == df_res[\"order_id\"], \"inner\")\n",
    "\n",
    "df_res = df_res.groupBy(concat_ws(\" \",df_customers[\"first_name\"], \n",
    "              df_customers[\"last_name\"])\n",
    "                        ).agg(\n",
    "                        F.sum(df_res[\"quantity\"] * \n",
    "                        (df_res[\"list_price\"] * \n",
    "                         (1-df_res[\"discount\"]))\n",
    "                         ).alias(\"Total_Money_Spent\")\n",
    "                         ).withColumnRenamed(\"concat_ws( , first_name, last_name)\", \"Customer\")\n",
    "\n",
    "df_res.orderBy(F.desc(\"Total_Money_Spent\")).show(5)"
   ]
  },
  {
   "cell_type": "markdown",
   "metadata": {},
   "source": [
    "spark.sql"
   ]
  },
  {
   "cell_type": "code",
   "execution_count": 5,
   "metadata": {},
   "outputs": [
    {
     "name": "stdout",
     "output_type": "stream",
     "text": [
      "+--------------+------------------+\n",
      "|      Customer| Total_Money_Spent|\n",
      "+--------------+------------------+\n",
      "|Sharyn Hopkins|        34807.9392|\n",
      "|Pamelia Newman|        33634.2604|\n",
      "|   Abby Gamble|        32803.0062|\n",
      "|  Lyndsey Bean|32675.072499999995|\n",
      "|Emmitt Sanchez|31925.885699999995|\n",
      "+--------------+------------------+\n",
      "\n"
     ]
    }
   ],
   "source": [
    "df_orders.createOrReplaceTempView(\"orders\")\n",
    "df_order_items.createOrReplaceTempView(\"order_items\")\n",
    "df_customers.createOrReplaceTempView(\"customers\")\n",
    "\n",
    "spark.sql(\"\"\"\n",
    "        SELECT CONCAT_WS(' ',customers.first_name, customers.last_name) as Customer,\n",
    "                sum(order_items.quantity * (order_items.list_price * (1 - order_items.discount))) AS Total_Money_Spent\n",
    "        FROM customers\n",
    "        inner join orders on orders.customer_id = customers.customer_id\n",
    "        inner join order_items on order_items.order_id = orders.order_id\n",
    "        GROUP BY Customer\n",
    "        order by Total_Money_Spent\n",
    "        DESC LIMIT 5;\n",
    "          \"\"\").show()"
   ]
  }
 ],
 "metadata": {
  "kernelspec": {
   "display_name": "Python 3",
   "language": "python",
   "name": "python3"
  },
  "language_info": {
   "codemirror_mode": {
    "name": "ipython",
    "version": 3
   },
   "file_extension": ".py",
   "mimetype": "text/x-python",
   "name": "python",
   "nbconvert_exporter": "python",
   "pygments_lexer": "ipython3",
   "version": "3.13.0"
  }
 },
 "nbformat": 4,
 "nbformat_minor": 2
}
