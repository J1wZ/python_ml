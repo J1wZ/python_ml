{
 "cells": [
  {
   "cell_type": "markdown",
   "metadata": {},
   "source": [
    "# Задание 1.1\n",
    "Напишите запрос,чтобы получить все названия продуктов и соответствующие им торговые марки (brand).\n",
    "\n",
    "(Представлены два способа решения)"
   ]
  },
  {
   "cell_type": "code",
   "execution_count": null,
   "metadata": {},
   "outputs": [],
   "source": [
    "import findspark\n",
    "findspark.init()\n",
    "\n",
    "from pyspark.sql import SparkSession\n",
    "\n",
    "spark = SparkSession.builder.master(\"local\").getOrCreate()\n"
   ]
  },
  {
   "cell_type": "markdown",
   "metadata": {},
   "source": [
    "API"
   ]
  },
  {
   "cell_type": "code",
   "execution_count": 8,
   "metadata": {},
   "outputs": [
    {
     "name": "stdout",
     "output_type": "stream",
     "text": [
      "+--------------------+-----------+\n",
      "|        product_name| brand_name|\n",
      "+--------------------+-----------+\n",
      "|     Trek 820 - 2016|       Trek|\n",
      "|Ritchey Timberwol...|    Ritchey|\n",
      "|Surly Wednesday F...|      Surly|\n",
      "|Trek Fuel EX 8 29...|       Trek|\n",
      "|Heller Shagamaw F...|     Heller|\n",
      "|Surly Ice Cream T...|      Surly|\n",
      "|Trek Slash 8 27.5...|       Trek|\n",
      "|Trek Remedy 29 Ca...|       Trek|\n",
      "|Trek Conduit+ - 2016|       Trek|\n",
      "|Surly Straggler -...|      Surly|\n",
      "|Surly Straggler 6...|      Surly|\n",
      "|Electra Townie Or...|    Electra|\n",
      "|Electra Cruiser 1...|    Electra|\n",
      "|Electra Girl's Ha...|    Electra|\n",
      "|Electra Moto 1 - ...|    Electra|\n",
      "|Electra Townie Or...|    Electra|\n",
      "|Pure Cycles Vine ...|Pure Cycles|\n",
      "|Pure Cycles Weste...|Pure Cycles|\n",
      "|Pure Cycles Willi...|Pure Cycles|\n",
      "|Electra Townie Or...|    Electra|\n",
      "+--------------------+-----------+\n",
      "only showing top 20 rows\n",
      "\n"
     ]
    }
   ],
   "source": [
    "df_brands = spark.read.csv(\"CVS\\\\brands.csv\", inferSchema=True, header=True, sep=\",\")\n",
    "\n",
    "df_products = spark.read.csv(\"CVS\\\\products.csv\", inferSchema=True, header=True, sep=\",\")\n",
    "\n",
    "df_res = df_products.join(df_brands, df_brands[\"brand_id\"] == df_products[\"brand_id\"])\n",
    "df_res = df_res.select(\"product_name\", \"brand_name\")\n",
    "df_res.show()"
   ]
  },
  {
   "cell_type": "markdown",
   "metadata": {},
   "source": [
    "spark.sql"
   ]
  },
  {
   "cell_type": "code",
   "execution_count": 9,
   "metadata": {},
   "outputs": [
    {
     "name": "stdout",
     "output_type": "stream",
     "text": [
      "+--------------------+-----------+\n",
      "|        product_name| brand_name|\n",
      "+--------------------+-----------+\n",
      "|     Trek 820 - 2016|       Trek|\n",
      "|Ritchey Timberwol...|    Ritchey|\n",
      "|Surly Wednesday F...|      Surly|\n",
      "|Trek Fuel EX 8 29...|       Trek|\n",
      "|Heller Shagamaw F...|     Heller|\n",
      "|Surly Ice Cream T...|      Surly|\n",
      "|Trek Slash 8 27.5...|       Trek|\n",
      "|Trek Remedy 29 Ca...|       Trek|\n",
      "|Trek Conduit+ - 2016|       Trek|\n",
      "|Surly Straggler -...|      Surly|\n",
      "|Surly Straggler 6...|      Surly|\n",
      "|Electra Townie Or...|    Electra|\n",
      "|Electra Cruiser 1...|    Electra|\n",
      "|Electra Girl's Ha...|    Electra|\n",
      "|Electra Moto 1 - ...|    Electra|\n",
      "|Electra Townie Or...|    Electra|\n",
      "|Pure Cycles Vine ...|Pure Cycles|\n",
      "|Pure Cycles Weste...|Pure Cycles|\n",
      "|Pure Cycles Willi...|Pure Cycles|\n",
      "|Electra Townie Or...|    Electra|\n",
      "+--------------------+-----------+\n",
      "only showing top 20 rows\n",
      "\n"
     ]
    }
   ],
   "source": [
    "df_brands.createOrReplaceTempView(\"brands\")\n",
    "df_products.createOrReplaceTempView(\"products\")\n",
    "\n",
    "spark.sql(\"\"\"\n",
    "          SELECT products.product_name, brands.brand_name \n",
    "            FROM products \n",
    "            JOIN brands ON brands.brand_id = products.brand_id\n",
    "          \"\"\").show()"
   ]
  }
 ],
 "metadata": {
  "kernelspec": {
   "display_name": "Python 3",
   "language": "python",
   "name": "python3"
  },
  "language_info": {
   "codemirror_mode": {
    "name": "ipython",
    "version": 3
   },
   "file_extension": ".py",
   "mimetype": "text/x-python",
   "name": "python",
   "nbconvert_exporter": "python",
   "pygments_lexer": "ipython3",
   "version": "3.13.0"
  }
 },
 "nbformat": 4,
 "nbformat_minor": 2
}
