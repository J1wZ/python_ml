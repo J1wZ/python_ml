{
 "cells": [
  {
   "cell_type": "markdown",
   "metadata": {},
   "source": [
    "# Задание 2.3\n",
    "Напишите запрос для расчета общей суммы продаж за каждый месяц\n",
    "\n",
    "(Представлены два способа решения)"
   ]
  },
  {
   "cell_type": "code",
   "execution_count": 1,
   "metadata": {},
   "outputs": [],
   "source": [
    "from pyspark.sql import SparkSession\n",
    "\n",
    "spark = SparkSession.builder.master(\"local\").getOrCreate()\n"
   ]
  },
  {
   "cell_type": "markdown",
   "metadata": {},
   "source": [
    "API"
   ]
  },
  {
   "cell_type": "code",
   "execution_count": null,
   "metadata": {},
   "outputs": [
    {
     "name": "stdout",
     "output_type": "stream",
     "text": [
      "+-----+----------------------+------------------+\n",
      "|Month|Total Number of Orders|       Total sales|\n",
      "+-----+----------------------+------------------+\n",
      "|    1|                   466| 882193.0074000009|\n",
      "|    2|                   429| 669694.1313000012|\n",
      "|    3|                   535| 853503.2238000015|\n",
      "|    4|                   669| 1212356.824700001|\n",
      "|    5|                   309| 473503.2470000006|\n",
      "|    6|                   324|  589616.769000001|\n",
      "|    7|                   315|440890.10700000083|\n",
      "|    8|                   364| 524588.6468000006|\n",
      "|    9|                   348| 575460.8305000005|\n",
      "|   10|                   370| 526187.5179000009|\n",
      "|   11|                   294|475269.32140000083|\n",
      "|   12|                   299|465852.93080000085|\n",
      "+-----+----------------------+------------------+\n",
      "\n"
     ]
    }
   ],
   "source": [
    "from pyspark.sql import functions as F\n",
    "\n",
    "df_orders = spark.read.csv(\"CVS\\\\orders.csv\", inferSchema=True, header=True, sep=\",\")\n",
    "df_order_items = spark.read.csv(\"CVS\\\\order_items.csv\", inferSchema=True, header=True, sep=\",\")\n",
    "\n",
    "df_res = df_orders.join(df_order_items, \n",
    "                           df_order_items[\"order_id\"] == df_orders[\"order_id\"], \"inner\")\n",
    "\n",
    "\n",
    "df_res = df_res.groupBy(F.month(\"order_date\")\n",
    "                        ).agg(\n",
    "                        F.count(\"product_id\").alias(\"Total Number of Orders\"),\n",
    "                        F.sum(df_order_items[\"quantity\"] * \n",
    "                        (df_order_items[\"list_price\"] * \n",
    "                         (1-df_order_items[\"discount\"]))\n",
    "                         ).alias(\"Total sales\")).withColumnRenamed(\"month(order_date)\", \"Month\")\n",
    "\n",
    "df_res.orderBy(\"Month\").show()"
   ]
  },
  {
   "cell_type": "markdown",
   "metadata": {},
   "source": [
    "spark.sql"
   ]
  },
  {
   "cell_type": "code",
   "execution_count": 18,
   "metadata": {},
   "outputs": [
    {
     "name": "stdout",
     "output_type": "stream",
     "text": [
      "+-----+----------------------+------------------+\n",
      "|Month|Total_Number_of_Orders|       Total_Sales|\n",
      "+-----+----------------------+------------------+\n",
      "|    1|                   466| 882193.0074000009|\n",
      "|    2|                   429| 669694.1313000012|\n",
      "|    3|                   535| 853503.2238000015|\n",
      "|    4|                   669| 1212356.824700001|\n",
      "|    5|                   309| 473503.2470000006|\n",
      "|    6|                   324|  589616.769000001|\n",
      "|    7|                   315|440890.10700000083|\n",
      "|    8|                   364| 524588.6468000006|\n",
      "|    9|                   348| 575460.8305000005|\n",
      "|   10|                   370| 526187.5179000009|\n",
      "|   11|                   294|475269.32140000083|\n",
      "|   12|                   299|465852.93080000085|\n",
      "+-----+----------------------+------------------+\n",
      "\n"
     ]
    }
   ],
   "source": [
    "df_orders.createOrReplaceTempView(\"orders\")\n",
    "df_order_items.createOrReplaceTempView(\"order_items\")\n",
    "\n",
    "spark.sql(\"\"\"\n",
    "            SELECT month(orders.order_date) AS Month,\n",
    "                    count(orders.order_id) AS Total_Number_of_Orders,\n",
    "                    sum(order_items.quantity * (order_items.list_price * (1 - order_items.discount))) AS Total_Sales\n",
    "            FROM orders\n",
    "            inner join order_items on order_items.order_id = orders.order_id\n",
    "            GROUP BY Month\n",
    "            ORDER BY Month;\n",
    "          \"\"\").show()"
   ]
  }
 ],
 "metadata": {
  "kernelspec": {
   "display_name": "Python 3",
   "language": "python",
   "name": "python3"
  },
  "language_info": {
   "codemirror_mode": {
    "name": "ipython",
    "version": 3
   },
   "file_extension": ".py",
   "mimetype": "text/x-python",
   "name": "python",
   "nbconvert_exporter": "python",
   "pygments_lexer": "ipython3",
   "version": "3.13.0"
  }
 },
 "nbformat": 4,
 "nbformat_minor": 2
}
