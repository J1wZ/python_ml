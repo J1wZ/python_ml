{
 "cells": [
  {
   "cell_type": "markdown",
   "metadata": {},
   "source": [
    "# Задание 1.4\n",
    "Напишите запрос для подсчета количества продуктов в каждой категории.\n",
    "\n",
    "(Представлены два способа решения)"
   ]
  },
  {
   "cell_type": "code",
   "execution_count": 1,
   "metadata": {},
   "outputs": [],
   "source": [
    "from pyspark.sql import SparkSession\n",
    "\n",
    "spark = SparkSession.builder.master(\"local\").getOrCreate()\n"
   ]
  },
  {
   "cell_type": "markdown",
   "metadata": {},
   "source": [
    "API"
   ]
  },
  {
   "cell_type": "code",
   "execution_count": 2,
   "metadata": {},
   "outputs": [
    {
     "name": "stdout",
     "output_type": "stream",
     "text": [
      "+-------------------+-----+\n",
      "|      category_name|count|\n",
      "+-------------------+-----+\n",
      "|     Electric Bikes|   24|\n",
      "|     Mountain Bikes|   60|\n",
      "|   Comfort Bicycles|   30|\n",
      "|         Road Bikes|   60|\n",
      "|Cyclocross Bicycles|   10|\n",
      "|  Children Bicycles|   59|\n",
      "|  Cruisers Bicycles|   78|\n",
      "+-------------------+-----+\n",
      "\n"
     ]
    }
   ],
   "source": [
    "\n",
    "df_products = spark.read.csv(\"CVS\\\\products.csv\", inferSchema=True, header=True, sep=\",\")\n",
    "df_categories = spark.read.csv(\"CVS\\\\categories.csv\", inferSchema=True, header=True, sep=\",\")\n",
    "\n",
    "df_res = df_products.join(df_categories, \n",
    "                           df_categories[\"category_id\"] == df_products[\"category_id\"])\n",
    "\n",
    "\n",
    "df_res = df_res.groupBy(\"category_name\").count()\n",
    "\n",
    "df_res.show()"
   ]
  },
  {
   "cell_type": "markdown",
   "metadata": {},
   "source": [
    "spark.sql"
   ]
  },
  {
   "cell_type": "code",
   "execution_count": 3,
   "metadata": {},
   "outputs": [
    {
     "name": "stdout",
     "output_type": "stream",
     "text": [
      "+-------------------+-----+\n",
      "|      category_name|count|\n",
      "+-------------------+-----+\n",
      "|     Electric Bikes|   24|\n",
      "|     Mountain Bikes|   60|\n",
      "|   Comfort Bicycles|   30|\n",
      "|         Road Bikes|   60|\n",
      "|Cyclocross Bicycles|   10|\n",
      "|  Children Bicycles|   59|\n",
      "|  Cruisers Bicycles|   78|\n",
      "+-------------------+-----+\n",
      "\n"
     ]
    }
   ],
   "source": [
    "df_products.createOrReplaceTempView(\"products\")\n",
    "df_categories.createOrReplaceTempView(\"categories\")\n",
    "\n",
    "spark.sql(\"\"\"\n",
    "          SELECT categories.category_name, COUNT(products.product_id) as count\n",
    "          FROM products\n",
    "          JOIN categories ON categories.category_id = products.category_id\n",
    "          GROUP BY categories.category_name;\n",
    "          \"\"\").show()"
   ]
  }
 ],
 "metadata": {
  "kernelspec": {
   "display_name": "Python 3",
   "language": "python",
   "name": "python3"
  },
  "language_info": {
   "codemirror_mode": {
    "name": "ipython",
    "version": 3
   },
   "file_extension": ".py",
   "mimetype": "text/x-python",
   "name": "python",
   "nbconvert_exporter": "python",
   "pygments_lexer": "ipython3",
   "version": "3.13.0"
  }
 },
 "nbformat": 4,
 "nbformat_minor": 2
}
