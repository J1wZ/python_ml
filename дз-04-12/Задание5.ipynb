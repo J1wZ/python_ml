{
 "cells": [
  {
   "cell_type": "markdown",
   "metadata": {},
   "source": [
    "Задача 5 Функция с частичными аргументами \n",
    "\n",
    "\n",
    "Решить следующее задание с применением библиотеки functools.\n",
    "\n",
    "\n",
    "Напишите функцию _sort_users_by_age, которая принимает список пользователей (словарей) и порядок сортировки (возрастание или убывание). Используя partial, создайте две новые функции: одну для сортировки по возрастанию возраста и другую — по убыванию."
   ]
  },
  {
   "cell_type": "code",
   "execution_count": null,
   "metadata": {},
   "outputs": [
    {
     "name": "stdout",
     "output_type": "stream",
     "text": [
      "Сортировка по возрастанию возраста:\n",
      "[{'name': 'Маша', 'age': 5}, {'name': 'Максим', 'age': 12}, {'name': 'Анастасия', 'age': 25}, {'name': 'Андрей', 'age': 54}]\n",
      "\n",
      "Сортировка по убыванию возраста:\n",
      "[{'name': 'Андрей', 'age': 54}, {'name': 'Анастасия', 'age': 25}, {'name': 'Максим', 'age': 12}, {'name': 'Маша', 'age': 5}]\n"
     ]
    }
   ],
   "source": [
    "from functools import partial\n",
    "\n",
    "'''\n",
    "Функция _sort_users_by_age принимает список пользователей и sort_order - порядок сортировки\n",
    "sort_order == False - сортирует по возрастанию, True - по убыванию\n",
    "'''\n",
    "def _sort_users_by_age(users, sort_order : bool = False):\n",
    "    if isinstance(sort_order, bool):\n",
    "        return sorted(users, key = lambda user: user['age'],reverse=sort_order)\n",
    "    else:\n",
    "        raise ValueError(f'Функция не принимает sort_order типа {type(sort_order)}')\n",
    "    \n",
    "#Функция для сортировки по возрастанию возраста\n",
    "_sort_users_by_age_ascending = partial(_sort_users_by_age)\n",
    "\n",
    "#Функция для сортировки по убыванию возраста\n",
    "_sort_users_by_age_descending = partial(_sort_users_by_age, sort_order = True)\n",
    "\n",
    "users = [\n",
    "    {'name':'Максим','age': 12},\n",
    "    { 'name':'Маша','age': 5},\n",
    "    {'name':'Андрей','age': 54}, \n",
    "    {'name':'Анастасия','age': 25}\n",
    "      ]\n",
    "\n",
    "try:\n",
    "    users_ascending = _sort_users_by_age_ascending(users)\n",
    "\n",
    "    users_descending = _sort_users_by_age_descending(users)\n",
    "\n",
    "\n",
    "    print(f'Сортировка по возрастанию возраста:\\n{users_ascending}\\n')\n",
    "\n",
    "    print(f'Сортировка по убыванию возраста:\\n{users_descending}')\n",
    "except ValueError as err:\n",
    "    print(err)"
   ]
  },
  {
   "cell_type": "markdown",
   "metadata": {},
   "source": [
    "Ошибка:"
   ]
  },
  {
   "cell_type": "code",
   "execution_count": 4,
   "metadata": {},
   "outputs": [
    {
     "name": "stdout",
     "output_type": "stream",
     "text": [
      "Функция не принимает sort_order типа <class 'int'>\n"
     ]
    }
   ],
   "source": [
    "try:\n",
    "    users_sort = _sort_users_by_age(users, 5)\n",
    "except ValueError as err:\n",
    "    print(err)"
   ]
  }
 ],
 "metadata": {
  "kernelspec": {
   "display_name": "Python 3",
   "language": "python",
   "name": "python3"
  },
  "language_info": {
   "codemirror_mode": {
    "name": "ipython",
    "version": 3
   },
   "file_extension": ".py",
   "mimetype": "text/x-python",
   "name": "python",
   "nbconvert_exporter": "python",
   "pygments_lexer": "ipython3",
   "version": "3.13.0"
  }
 },
 "nbformat": 4,
 "nbformat_minor": 2
}
