{
 "cells": [
  {
   "cell_type": "markdown",
   "metadata": {},
   "source": [
    "Задача 5 Функция с частичными аргументами \n",
    "Решить следующее задание с применением библиотеки functools.\n",
    "Напишите функцию _sort_users_by_age, которая принимает список пользователей (словарей) и порядок сортировки (возрастание или убывание). Используя partial, создайте две новые функции: одну для сортировки по возрастанию возраста и другую — по убыванию."
   ]
  },
  {
   "cell_type": "code",
   "execution_count": 2,
   "metadata": {},
   "outputs": [
    {
     "name": "stdout",
     "output_type": "stream",
     "text": [
      "Сортировка по возрастанию возраста:\n",
      "{'Маша': 5, 'Максим': 12, 'Анастасия': 25, 'Андрей': 54}\n",
      "\n",
      "Сортировка по убыванию возраста:\n",
      "{'Андрей': 54, 'Анастасия': 25, 'Максим': 12, 'Маша': 5}\n"
     ]
    }
   ],
   "source": [
    "from functools import partial\n",
    "\n",
    "def _sort_users_by_age(users : dict, sort_order : str = 'ascending'):\n",
    "    if sort_order == 'ascending':\n",
    "        return dict(sorted(users.items(), key = lambda kv: kv[1]))\n",
    "    elif sort_order == 'descending':\n",
    "        return dict(sorted(users.items(), key = lambda kv: kv[1],reverse=True))\n",
    "    else:\n",
    "        raise ValueError(f'Функция не принимает sort_order = {sort_order}')\n",
    "    \n",
    "#Функция для сортировки по возрастанию возраста\n",
    "_sort_users_by_age_ascending = partial(_sort_users_by_age, sort_order = 'ascending')\n",
    "\n",
    "#Функция для сортировки по убыванию возраста\n",
    "_sort_users_by_age_descending = partial(_sort_users_by_age, sort_order = 'descending')\n",
    "\n",
    "users = {'Максим': 12, 'Маша': 5, 'Андрей': 54, 'Анастасия': 25}\n",
    "\n",
    "try:\n",
    "    users_ascending = _sort_users_by_age_ascending(users)\n",
    "\n",
    "    users_descending = _sort_users_by_age_descending(users)\n",
    "\n",
    "\n",
    "    print(f'Сортировка по возрастанию возраста:\\n{users_ascending}\\n')\n",
    "\n",
    "    print(f'Сортировка по убыванию возраста:\\n{users_descending}')\n",
    "except ValueError as err:\n",
    "    print(err)"
   ]
  },
  {
   "cell_type": "markdown",
   "metadata": {},
   "source": [
    "Ошибка:"
   ]
  },
  {
   "cell_type": "code",
   "execution_count": 3,
   "metadata": {},
   "outputs": [
    {
     "name": "stdout",
     "output_type": "stream",
     "text": [
      "Функция не принимает sort_order = 5\n"
     ]
    }
   ],
   "source": [
    "try:\n",
    "    users_sort = _sort_users_by_age(users, 5)\n",
    "except ValueError as err:\n",
    "    print(err)"
   ]
  }
 ],
 "metadata": {
  "kernelspec": {
   "display_name": "Python 3",
   "language": "python",
   "name": "python3"
  },
  "language_info": {
   "codemirror_mode": {
    "name": "ipython",
    "version": 3
   },
   "file_extension": ".py",
   "mimetype": "text/x-python",
   "name": "python",
   "nbconvert_exporter": "python",
   "pygments_lexer": "ipython3",
   "version": "3.13.0"
  }
 },
 "nbformat": 4,
 "nbformat_minor": 2
}
