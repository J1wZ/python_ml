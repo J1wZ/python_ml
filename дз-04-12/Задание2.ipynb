{
 "cells": [
  {
   "cell_type": "markdown",
   "metadata": {},
   "source": [
    "Задача 2 Вложенные функции \n",
    "Напишите программу, которая выполняет следующие действия:\n",
    "1.Определите функцию get_list, которая принимает строку из целых чисел, разделенных пробелами, и возвращает список из этих чисел.\n",
    "2.Создайте функцию sort_func, которая:\n",
    "    a.Принимает функцию как аргумент \n",
    "    b.Вызывает переданную функцию \n",
    "    c.Сортирует результат работы функции по возрастанию\n",
    "    d.Возвращает отсортированный результат\n",
    "3.Используйте вызов функций get_list и sort_func, чтобы вывести результат на экран."
   ]
  },
  {
   "cell_type": "code",
   "execution_count": 1,
   "metadata": {},
   "outputs": [
    {
     "name": "stdout",
     "output_type": "stream",
     "text": [
      "[-45.0, 0.0, 4.8, 34.6, 85950.0]\n"
     ]
    }
   ],
   "source": [
    "def get_list(num_str : str) -> list:\n",
    "    return [float(num) for num in num_str.split()]\n",
    "\n",
    "def sort_func(func : callable, data = None):\n",
    "    return sorted(func(data))\n",
    "\n",
    "#34.6 85950 0 -45 4.8\n",
    "num_list = sort_func(get_list,input('Введите строку из целых чисел, разделенных пробелами:'))\n",
    "print(num_list)"
   ]
  }
 ],
 "metadata": {
  "kernelspec": {
   "display_name": "Python 3",
   "language": "python",
   "name": "python3"
  },
  "language_info": {
   "codemirror_mode": {
    "name": "ipython",
    "version": 3
   },
   "file_extension": ".py",
   "mimetype": "text/x-python",
   "name": "python",
   "nbconvert_exporter": "python",
   "pygments_lexer": "ipython3",
   "version": "3.13.0"
  }
 },
 "nbformat": 4,
 "nbformat_minor": 2
}
