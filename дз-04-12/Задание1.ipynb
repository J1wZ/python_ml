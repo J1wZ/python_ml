{
 "cells": [
  {
   "cell_type": "markdown",
   "metadata": {},
   "source": [
    "Задача 1 Фильтрация данных \n",
    "Объявите функцию, которая принимает строку (в качестве аргумента) и возвращает False, если длина строки меньше трех символов.\n",
    "Иначе возвращается значение True. \n",
    "После объявления функции прочитайте (с помощью функции input) список названий городов, записанных в одну строку через пробел. \n",
    "Затем, используя генератор списка и созданную функцию, сформируйте список из названий городов длиной не менее трех символов на основе введенного исходного списка. Результат отобразите на экране."
   ]
  },
  {
   "cell_type": "code",
   "execution_count": null,
   "metadata": {},
   "outputs": [
    {
     "name": "stdout",
     "output_type": "stream",
     "text": [
      "['Париж', 'Рим']\n"
     ]
    }
   ],
   "source": [
    "Check_len = lambda string: len(string) >= 3\n",
    "\n",
    "Towns = input('Введите список названий городов, через пробел').split() # Париж Рим ен\n",
    "\n",
    "print(list(filter(Check_len, Towns)))"
   ]
  }
 ],
 "metadata": {
  "kernelspec": {
   "display_name": "Python 3",
   "language": "python",
   "name": "python3"
  },
  "language_info": {
   "codemirror_mode": {
    "name": "ipython",
    "version": 3
   },
   "file_extension": ".py",
   "mimetype": "text/x-python",
   "name": "python",
   "nbconvert_exporter": "python",
   "pygments_lexer": "ipython3",
   "version": "3.13.0"
  }
 },
 "nbformat": 4,
 "nbformat_minor": 2
}
