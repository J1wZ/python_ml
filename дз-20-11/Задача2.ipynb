{
 "cells": [
  {
   "cell_type": "markdown",
   "metadata": {},
   "source": [
    "Опишите класс для векторов в N-мерном пространстве. \n",
    "В качестве основы используйте список значений координат вектора, задаваемый `list`.Обеспечьте поддержку следующих операций :сложение, вычитание(с созданием нового вектора-результата), скалярное произведение, косинус угла, евклидова норма.\n",
    "Все операции, которые можно перегрузить с помощью магических методов, должны быть реализованы именно через них.Класс должен производить проверку консистентности аргументов для каждой операции и в случаях ошибок выбрасывать исключение `ValueError` с исчерпывающим объяснением ошибки.\n"
   ]
  },
  {
   "cell_type": "code",
   "execution_count": 228,
   "metadata": {},
   "outputs": [],
   "source": [
    "import math\n",
    "class Vector:\n",
    "    #Конструктор Vector принимает только: 0 переменных, массив или одно число\n",
    "    #Если контруктору не было передана переменная он возращает пустой список\n",
    "    def __init__(self,items = []):\n",
    "        if (isinstance(items,list) and Vector.CheckVectorItems(items)):\n",
    "            self._items = items\n",
    "        elif type(items) in [int, float]:\n",
    "            self._items = [items]\n",
    "        else:\n",
    "            raise ValueError(f\"Для инициализации вектора не принимаются {str(type(items))}\")\n",
    "\n",
    "    #Функция проверяет, что все элементы в списке только типа int или float\n",
    "    def CheckVectorItems(items):\n",
    "        if items != []:\n",
    "            for el in items:\n",
    "                if type(el) not in [int,float]:\n",
    "                    raise ValueError(f\"Вектор может состоять только из чисел. Он не должен содержать {str(type(el))}\")\n",
    "        return True\n",
    "        \n",
    "    \n",
    "    def __add__(self, other):\n",
    "        if isinstance(other,Vector):\n",
    "            if self.size != other.size:\n",
    "                raise ValueError(\"Векторы разной размерности не складываются\")\n",
    "            return Vector([self.items[i]+other.items[i] for i in range(self.size)])\n",
    "        raise ValueError(f\"Только вектора складываются с друг другом\")\n",
    "\n",
    "\n",
    "    def __sub__(self, other):\n",
    "        if isinstance(other,Vector):\n",
    "            if self.size != other.size:\n",
    "                raise ValueError(\"Нет разности векторов разной размерности\")\n",
    "            return Vector([self.items[i]-other.items[i] for i in range(self.size)])\n",
    "        raise ValueError(\"Только вектора вычитаются из друг друга\")\n",
    "\n",
    "    #Возвращает скалярное умножение векторов или результат умножения вектора на число\n",
    "    def __mul__(self, other):\n",
    "        if isinstance(other,Vector):\n",
    "            return sum([self.items[i]*other.items[i] for i in range(self.size)])\n",
    "        elif not (type(other) in [int, float]):\n",
    "            raise ValueError(f\"Векторы не могут перемножатся с {str(type(other))}\")\n",
    "        return Vector([self.items[i]*other for i in range(self.size)])\n",
    "\n",
    "    def cos(self, other):\n",
    "        if isinstance(other,Vector):\n",
    "            return (self * other)/(abs(self)*abs(other))\n",
    "        raise ValueError(f\"Косинус не может считаться между вектором и {str(type(other))}\")\n",
    "\n",
    "\n",
    "    def __str__(self):\n",
    "        return str(self.items)\n",
    "    \n",
    "    #Возвращает Евклидову норму\n",
    "    def __abs__(self):\n",
    "        return math.sqrt(sum([self.items[i]**2 for i in range(self.size)]))\n",
    "\n",
    "    #Добавляет к вектору новые элементы из списка или другого вектора\n",
    "    #Составлен на основе extend списка\n",
    "    def extend(self, items):\n",
    "        if (isinstance(items,list) and Vector.CheckVectorItems(items)):\n",
    "            self._items.extend(items)\n",
    "        elif isinstance(items, Vector):\n",
    "            self._items.extend(items._items)\n",
    "        else:\n",
    "            raise ValueError(f\"Вектор не может быть увеличен(extend) обьектом {str(type(items))}\")\n",
    "    \n",
    "    #Добавляет к вектору новую координату\n",
    "    #Составлен на основе append списка\n",
    "    def append(self,item):\n",
    "        if type(item) in [int, float]:\n",
    "            self._items.append(item)\n",
    "        else:\n",
    "            raise ValueError(f\"К вектору не может быть добавлен {str(type(item))}\")\n",
    "        \n",
    "    # Возращает длину списка(размерность вектора)\n",
    "    def __len__(self):\n",
    "        return self.size\n",
    "\n",
    "    @property\n",
    "    def items(self):\n",
    "        return self._items\n",
    "    \n",
    "    @property\n",
    "    def size(self):\n",
    "        return len(self.items)\n",
    "    \n"
   ]
  },
  {
   "cell_type": "markdown",
   "metadata": {},
   "source": [
    "Создаются три вектора разной длины. Один пустой, другой из 1 числа и третий для 2-ух мерного пространства"
   ]
  },
  {
   "cell_type": "code",
   "execution_count": 229,
   "metadata": {},
   "outputs": [
    {
     "name": "stdout",
     "output_type": "stream",
     "text": [
      "[]\n",
      "[3, 5]\n",
      "[1]\n"
     ]
    }
   ],
   "source": [
    "a = Vector()\n",
    "print(a)\n",
    "b = Vector([3,5])\n",
    "print(b)\n",
    "c = Vector(1)\n",
    "print(c)"
   ]
  },
  {
   "cell_type": "markdown",
   "metadata": {},
   "source": [
    "Использование функциий extend и append"
   ]
  },
  {
   "cell_type": "code",
   "execution_count": 230,
   "metadata": {},
   "outputs": [
    {
     "name": "stdout",
     "output_type": "stream",
     "text": [
      "[3, 4, 5]\n",
      "[3, 5, 8]\n"
     ]
    }
   ],
   "source": [
    "a.extend([3,4,5])\n",
    "b.append(8)\n",
    "print(a)\n",
    "print(b)"
   ]
  },
  {
   "cell_type": "markdown",
   "metadata": {},
   "source": [
    "Сложение векторов, скаляное умножение векторов и умножение вектора на число."
   ]
  },
  {
   "cell_type": "code",
   "execution_count": 231,
   "metadata": {},
   "outputs": [
    {
     "name": "stdout",
     "output_type": "stream",
     "text": [
      "[6, 9, 13]\n",
      "[0, -1, -3]\n",
      "69\n",
      "[6, 8, 10]\n"
     ]
    }
   ],
   "source": [
    "print(a+b)\n",
    "print(a-b)\n",
    "print(a*b)\n",
    "print(a*2)"
   ]
  },
  {
   "cell_type": "markdown",
   "metadata": {},
   "source": [
    "Евклидова норма вектора"
   ]
  },
  {
   "cell_type": "code",
   "execution_count": 232,
   "metadata": {},
   "outputs": [
    {
     "name": "stdout",
     "output_type": "stream",
     "text": [
      "7.0710678118654755\n"
     ]
    }
   ],
   "source": [
    "print(abs(a))"
   ]
  },
  {
   "cell_type": "markdown",
   "metadata": {},
   "source": [
    "Косинус угла между двумя векторами"
   ]
  },
  {
   "cell_type": "code",
   "execution_count": 233,
   "metadata": {},
   "outputs": [
    {
     "name": "stdout",
     "output_type": "stream",
     "text": [
      "0.9857142857142858\n"
     ]
    }
   ],
   "source": [
    "print(Vector.cos(a,b))"
   ]
  },
  {
   "cell_type": "markdown",
   "metadata": {},
   "source": [
    "Ошибки ValueError:"
   ]
  },
  {
   "cell_type": "code",
   "execution_count": 234,
   "metadata": {},
   "outputs": [
    {
     "name": "stdout",
     "output_type": "stream",
     "text": [
      "Векторы не могут перемножатся с <class 'str'>\n"
     ]
    }
   ],
   "source": [
    "try:\n",
    "    print(a*\"s\")\n",
    "except ValueError as er:\n",
    "    print(er)"
   ]
  },
  {
   "cell_type": "code",
   "execution_count": 235,
   "metadata": {},
   "outputs": [
    {
     "name": "stdout",
     "output_type": "stream",
     "text": [
      "Только вектора вычитаются из друг друга\n"
     ]
    }
   ],
   "source": [
    "try:\n",
    "    print(a-2)\n",
    "except ValueError as er:\n",
    "    print(er)"
   ]
  },
  {
   "cell_type": "code",
   "execution_count": 236,
   "metadata": {},
   "outputs": [
    {
     "name": "stdout",
     "output_type": "stream",
     "text": [
      "Вектор может состоять только из чисел. Он не должен содержать <class 'str'>\n"
     ]
    }
   ],
   "source": [
    "try:\n",
    "    d = Vector([1,2,\"q\",1])\n",
    "except ValueError as er:\n",
    "    print(er)"
   ]
  },
  {
   "cell_type": "code",
   "execution_count": 237,
   "metadata": {},
   "outputs": [
    {
     "name": "stdout",
     "output_type": "stream",
     "text": [
      "Для инициализации вектора не принимаются <class 'str'>\n"
     ]
    }
   ],
   "source": [
    "try:\n",
    "    d = Vector(\"err\")\n",
    "except ValueError as er:\n",
    "    print(er)"
   ]
  },
  {
   "cell_type": "code",
   "execution_count": 238,
   "metadata": {},
   "outputs": [
    {
     "name": "stdout",
     "output_type": "stream",
     "text": [
      "Векторы разной размерности не складываются\n"
     ]
    }
   ],
   "source": [
    "try:\n",
    "    print(a+c)\n",
    "except ValueError as er:\n",
    "    print(er)"
   ]
  },
  {
   "cell_type": "code",
   "execution_count": 239,
   "metadata": {},
   "outputs": [
    {
     "name": "stdout",
     "output_type": "stream",
     "text": [
      "Нет разности векторов разной размерности\n"
     ]
    }
   ],
   "source": [
    "try:\n",
    "    print(a-c)\n",
    "except ValueError as er:\n",
    "    print(er)"
   ]
  },
  {
   "cell_type": "code",
   "execution_count": 240,
   "metadata": {},
   "outputs": [
    {
     "name": "stdout",
     "output_type": "stream",
     "text": [
      "Косинус не может считаться между вектором и <class 'int'>\n"
     ]
    }
   ],
   "source": [
    "try:\n",
    "    print(Vector.cos(a,1))\n",
    "except ValueError as er:\n",
    "    print(er)"
   ]
  },
  {
   "cell_type": "code",
   "execution_count": 241,
   "metadata": {},
   "outputs": [
    {
     "name": "stdout",
     "output_type": "stream",
     "text": [
      "К вектору не может быть добавлен <class 'str'>\n"
     ]
    }
   ],
   "source": [
    "try:\n",
    "    a.append(\"qq\")\n",
    "except ValueError as er:\n",
    "    print(er)"
   ]
  },
  {
   "cell_type": "code",
   "execution_count": 242,
   "metadata": {},
   "outputs": [
    {
     "name": "stdout",
     "output_type": "stream",
     "text": [
      "Вектор не может быть увеличен(extend) обьектом <class 'str'>\n"
     ]
    }
   ],
   "source": [
    "try:\n",
    "    a.extend(\"qq\")\n",
    "except ValueError as er:\n",
    "    print(er)"
   ]
  }
 ],
 "metadata": {
  "kernelspec": {
   "display_name": "Python 3",
   "language": "python",
   "name": "python3"
  },
  "language_info": {
   "codemirror_mode": {
    "name": "ipython",
    "version": 3
   },
   "file_extension": ".py",
   "mimetype": "text/x-python",
   "name": "python",
   "nbconvert_exporter": "python",
   "pygments_lexer": "ipython3",
   "version": "3.13.0"
  }
 },
 "nbformat": 4,
 "nbformat_minor": 2
}
