{
 "cells": [
  {
   "cell_type": "markdown",
   "metadata": {},
   "source": [
    "Опишите класс комплексных чисел.У пользователя должна быть возможность создать его объект на основе числа и в алгебраической форме, и в полярной. Класс должен поддерживать основные математические операции (+,-,\\*,/) за счет перегрузки соответствующих магических методов.Также он должен поддерживать возможность получить число в алгебраической и полярной форме.Допускается использование модуля `math`."
   ]
  },
  {
   "cell_type": "code",
   "execution_count": 99,
   "metadata": {},
   "outputs": [],
   "source": [
    "import math\n",
    "\n",
    "class Complex:\n",
    "    #Когда флаг=True функция принимает данные алгебраическом виде\n",
    "    #флаг=False она переводит данные из полярного вида в алгебраический\n",
    "    #принимаются радианы, а не градусы\n",
    "    def __init__(self, real, imag, flag):\n",
    "        if isinstance(flag,bool) and (type(real) in [int, float]) and (type(imag) in [int, float]):\n",
    "            if (flag):\n",
    "                self._real = real\n",
    "                self._imag = imag\n",
    "            else:\n",
    "                self._real = real * math.cos(imag)\n",
    "                self._imag = real * math.sin(imag)\n",
    "        else:\n",
    "            raise ValueError(\"Конструктор Complex(real, imag, flag) принимает только численные значения для real & imag, булевое для flag\")\n",
    "\n",
    "    #Проверяется тип другого обьекта для выбора формулы \n",
    "    def __add__(self, other):\n",
    "        if isinstance(other,Complex):\n",
    "            return Complex(self.real + other.real, self.imag + other.imag, True)\n",
    "        elif type(other) in [int, float]:\n",
    "            return Complex(self.real + other, self.imag, True)\n",
    "        else:\n",
    "            raise ValueError(f\"Комплексные числа не складываются с {str(type(other))}\")\n",
    "\n",
    "    def __sub__(self, other):\n",
    "        if isinstance(other,Complex):\n",
    "            return Complex(self.real - other.real, self.imag - other.imag, True)\n",
    "        elif type(other) in [int, float]:\n",
    "            return Complex(self.real - other, self.imag, True)\n",
    "        else:\n",
    "            raise ValueError(f\"Не существует разности комплексного числа и {str(type(other))}\")\n",
    "\n",
    "    def __mul__(self, other):\n",
    "        if isinstance(other,Complex):\n",
    "            return Complex(self.real * other.real - self.imag * other.imag,self.imag * other.real + self.real *other.imag , True)\n",
    "        elif type(other) in [int, float]:\n",
    "            return Complex(self.real * other, self.imag * other, True)\n",
    "        else:\n",
    "            raise ValueError(f\"Комплексные числа не перемножаются с {str(type(other))}\")\n",
    "\n",
    "\n",
    "    def __truediv__(self, other):\n",
    "        if isinstance(other,Complex):\n",
    "            return Complex((self.real * other.real + self.imag * other.imag )/( other.real**2 + other.imag**2), (self.imag * other.real - self.real *other.imag) / ( other.real**2 + other.imag**2), True)\n",
    "        elif type(other) in [int, float]:\n",
    "            return Complex(self.real/other,self.imag/other,True)\n",
    "        else:\n",
    "            raise ValueError(f\"Комплексные числа не делятся на {str(type(other))}\")\n",
    "\n",
    "\n",
    "    def __str__(self):\n",
    "        if self.imag < 0:\n",
    "            return f\"{round(self.real,3)}{round(self.imag,3)}i\"\n",
    "        else:\n",
    "            return f\"{round(self.real,3)}+{round(self.imag,3)}i\"\n",
    "    \n",
    "    def __abs__(self):\n",
    "        return math.sqrt(self.real**2 + self.imag**2)\n",
    "\n",
    "    def polar(self):\n",
    "        return (abs(self), math.atan2(self.imag,self.real))\n",
    "\n",
    "    def rect(modulus, phase):\n",
    "        if type(modulus) in [int, float] and type(phase) in [int, float]:\n",
    "            return Complex(modulus * math.cos(phase),modulus * math.sin(phase), True)\n",
    "        raise ValueError(f\"Комплексные числа не создаются из пары типа ({str(type(modulus))},{str(type(phase))})\")\n",
    "\n",
    "    #Вазращает строку - данный комплексный обьект в полярной записи\n",
    "    def printPolar(self):\n",
    "        r, a = self.polar()\n",
    "        #Преобразование для того, чтобы углы находились в диапазоне от 0 до 360 градусов(0 - 6,28 рад)\n",
    "        while a < 0:\n",
    "            a += 6.28\n",
    "        while a >= 6.28:\n",
    "            a -= 6.28\n",
    "        return f\"{round(r,3)}*(cos({round(a,3)})+i*sin({round(a,3)})))\"\n",
    "\n",
    "    @property\n",
    "    def real(self):\n",
    "        return self._real\n",
    "    \n",
    "    @property\n",
    "    def imag(self):\n",
    "        return self._imag\n",
    "    \n",
    "    "
   ]
  },
  {
   "cell_type": "markdown",
   "metadata": {},
   "source": [
    "Создается два комплексных числа. Одно задается в алгебраической форме(а), а другое в полярной(b). \n",
    "\n",
    "Оба числа в алгебраической форме:"
   ]
  },
  {
   "cell_type": "code",
   "execution_count": 100,
   "metadata": {},
   "outputs": [
    {
     "name": "stdout",
     "output_type": "stream",
     "text": [
      "1+2i\n",
      "0.851-2.877i\n"
     ]
    }
   ],
   "source": [
    "a = Complex(1,2, True)\n",
    "print(a)\n",
    "b = Complex(3,5, False)\n",
    "print(b)"
   ]
  },
  {
   "cell_type": "markdown",
   "metadata": {},
   "source": [
    "Оба числа в полярной форме:"
   ]
  },
  {
   "cell_type": "code",
   "execution_count": 101,
   "metadata": {},
   "outputs": [
    {
     "name": "stdout",
     "output_type": "stream",
     "text": [
      "2.236*(cos(1.107)+i*sin(1.107)))\n",
      "3.0*(cos(4.997)+i*sin(4.997)))\n"
     ]
    }
   ],
   "source": [
    "print(a.printPolar())\n",
    "print(b.printPolar())"
   ]
  },
  {
   "cell_type": "markdown",
   "metadata": {},
   "source": [
    "Сложение комплексных"
   ]
  },
  {
   "cell_type": "code",
   "execution_count": 102,
   "metadata": {},
   "outputs": [
    {
     "name": "stdout",
     "output_type": "stream",
     "text": [
      "1.851-0.877i\n"
     ]
    }
   ],
   "source": [
    "print(a+b)"
   ]
  },
  {
   "cell_type": "markdown",
   "metadata": {},
   "source": [
    "Вычитание комплексных"
   ]
  },
  {
   "cell_type": "code",
   "execution_count": 103,
   "metadata": {},
   "outputs": [
    {
     "name": "stdout",
     "output_type": "stream",
     "text": [
      "0.149+4.877i\n"
     ]
    }
   ],
   "source": [
    "print(a-b)"
   ]
  },
  {
   "cell_type": "markdown",
   "metadata": {},
   "source": [
    "Умножение комплексных"
   ]
  },
  {
   "cell_type": "code",
   "execution_count": 104,
   "metadata": {},
   "outputs": [
    {
     "name": "stdout",
     "output_type": "stream",
     "text": [
      "6.605-1.175i\n"
     ]
    }
   ],
   "source": [
    "print(a*b)"
   ]
  },
  {
   "cell_type": "markdown",
   "metadata": {},
   "source": [
    "Деление комплексных"
   ]
  },
  {
   "cell_type": "code",
   "execution_count": 105,
   "metadata": {},
   "outputs": [
    {
     "name": "stdout",
     "output_type": "stream",
     "text": [
      "-0.545+0.509i\n",
      "-0.981-0.916i\n"
     ]
    }
   ],
   "source": [
    "print(a/b)\n",
    "print(b/a)"
   ]
  },
  {
   "cell_type": "markdown",
   "metadata": {},
   "source": [
    "Полярная форма записи комплексных"
   ]
  },
  {
   "cell_type": "code",
   "execution_count": 106,
   "metadata": {},
   "outputs": [
    {
     "data": {
      "text/plain": [
       "(2.23606797749979, 1.1071487177940904)"
      ]
     },
     "execution_count": 106,
     "metadata": {},
     "output_type": "execute_result"
    }
   ],
   "source": [
    "a.polar()"
   ]
  },
  {
   "cell_type": "code",
   "execution_count": 107,
   "metadata": {},
   "outputs": [
    {
     "data": {
      "text/plain": [
       "'2.236*(cos(1.107)+i*sin(1.107)))'"
      ]
     },
     "execution_count": 107,
     "metadata": {},
     "output_type": "execute_result"
    }
   ],
   "source": [
    "a.printPolar()"
   ]
  },
  {
   "cell_type": "markdown",
   "metadata": {},
   "source": [
    "Из полярной формы записи в алгебраическую"
   ]
  },
  {
   "cell_type": "code",
   "execution_count": 108,
   "metadata": {},
   "outputs": [
    {
     "name": "stdout",
     "output_type": "stream",
     "text": [
      "1.0+2.0i\n"
     ]
    }
   ],
   "source": [
    "modulus, phase = a.polar()\n",
    "print(Complex.rect(modulus,phase))"
   ]
  },
  {
   "cell_type": "markdown",
   "metadata": {},
   "source": [
    "Модуль комплексных"
   ]
  },
  {
   "cell_type": "code",
   "execution_count": 109,
   "metadata": {},
   "outputs": [
    {
     "data": {
      "text/plain": [
       "2.23606797749979"
      ]
     },
     "execution_count": 109,
     "metadata": {},
     "output_type": "execute_result"
    }
   ],
   "source": [
    "abs(a)"
   ]
  },
  {
   "cell_type": "markdown",
   "metadata": {},
   "source": [
    "Основные математические опции между комплексным числом и числом без мномой части "
   ]
  },
  {
   "cell_type": "code",
   "execution_count": 110,
   "metadata": {},
   "outputs": [
    {
     "name": "stdout",
     "output_type": "stream",
     "text": [
      "3+2i\n",
      "-1+2i\n",
      "2+4i\n",
      "0.5+1.0i\n"
     ]
    }
   ],
   "source": [
    "print(a+2)\n",
    "print(a-2)\n",
    "print(a*2)\n",
    "print(a/2)"
   ]
  },
  {
   "cell_type": "markdown",
   "metadata": {},
   "source": [
    "Те же операции в полярной форме"
   ]
  },
  {
   "cell_type": "code",
   "execution_count": 111,
   "metadata": {},
   "outputs": [
    {
     "name": "stdout",
     "output_type": "stream",
     "text": [
      "3.606*(cos(0.588)+i*sin(0.588)))\n",
      "2.236*(cos(2.034)+i*sin(2.034)))\n",
      "4.472*(cos(1.107)+i*sin(1.107)))\n",
      "1.118*(cos(1.107)+i*sin(1.107)))\n"
     ]
    }
   ],
   "source": [
    "print((a+2).printPolar())\n",
    "print((a-2).printPolar())\n",
    "print((a*2).printPolar())\n",
    "print((a/2).printPolar())"
   ]
  },
  {
   "cell_type": "markdown",
   "metadata": {},
   "source": [
    "Ошибки:"
   ]
  },
  {
   "cell_type": "code",
   "execution_count": 112,
   "metadata": {},
   "outputs": [
    {
     "name": "stdout",
     "output_type": "stream",
     "text": [
      "Конструктор Complex(real, imag, flag) принимает только численные значения для real & imag, булевое для flag\n"
     ]
    }
   ],
   "source": [
    "try:\n",
    "    a = Complex(\"11\",88,True)\n",
    "except ValueError as er:\n",
    "    print(er)"
   ]
  },
  {
   "cell_type": "code",
   "execution_count": 113,
   "metadata": {},
   "outputs": [
    {
     "name": "stdout",
     "output_type": "stream",
     "text": [
      "Комплексные числа не складываются с <class 'str'>\n"
     ]
    }
   ],
   "source": [
    "try:\n",
    "    print(a+\"len\")\n",
    "except ValueError as er:\n",
    "    print(er)"
   ]
  },
  {
   "cell_type": "code",
   "execution_count": 114,
   "metadata": {},
   "outputs": [
    {
     "name": "stdout",
     "output_type": "stream",
     "text": [
      "Не существует разности комплексного числа и <class 'bool'>\n"
     ]
    }
   ],
   "source": [
    "try:\n",
    "    print(a-True)\n",
    "except ValueError as er:\n",
    "    print(er)"
   ]
  },
  {
   "cell_type": "code",
   "execution_count": 115,
   "metadata": {},
   "outputs": [
    {
     "name": "stdout",
     "output_type": "stream",
     "text": [
      "Комплексные числа не перемножаются с <class 'str'>\n"
     ]
    }
   ],
   "source": [
    "try:\n",
    "    print(a*\"1\")\n",
    "except ValueError as er:\n",
    "    print(er)"
   ]
  },
  {
   "cell_type": "code",
   "execution_count": 116,
   "metadata": {},
   "outputs": [
    {
     "name": "stdout",
     "output_type": "stream",
     "text": [
      "Комплексные числа не делятся на <class 'str'>\n"
     ]
    }
   ],
   "source": [
    "try:\n",
    "    print(a/\"1\")\n",
    "except ValueError as er:\n",
    "    print(er)"
   ]
  },
  {
   "cell_type": "code",
   "execution_count": 117,
   "metadata": {},
   "outputs": [
    {
     "name": "stdout",
     "output_type": "stream",
     "text": [
      "Комплексные числа не создаются из пары типа (<class 'str'>,<class 'bool'>)\n"
     ]
    }
   ],
   "source": [
    "try:\n",
    "    Complex.rect(\"qq\", True)\n",
    "except ValueError as er:\n",
    "    print(er)"
   ]
  }
 ],
 "metadata": {
  "kernelspec": {
   "display_name": "Python 3",
   "language": "python",
   "name": "python3"
  },
  "language_info": {
   "codemirror_mode": {
    "name": "ipython",
    "version": 3
   },
   "file_extension": ".py",
   "mimetype": "text/x-python",
   "name": "python",
   "nbconvert_exporter": "python",
   "pygments_lexer": "ipython3",
   "version": "3.13.0"
  }
 },
 "nbformat": 4,
 "nbformat_minor": 2
}
